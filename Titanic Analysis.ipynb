{
 "cells": [
  {
   "cell_type": "markdown",
   "metadata": {},
   "source": [
    "This document outlines my analysis of the Titanic Data set. It will follow the entire analysis process, from questioning, to data cleansing, analysis and conclusion/communications.\n",
    "\n"
   ]
  },
  {
   "cell_type": "code",
   "execution_count": 25,
   "metadata": {
    "collapsed": true
   },
   "outputs": [],
   "source": [
    "%matplotlib inline\n",
    "\n",
    "import pandas as pd\n",
    "import numpy as np\n",
    "import seaborn as sb"
   ]
  },
  {
   "cell_type": "code",
   "execution_count": 2,
   "metadata": {
    "collapsed": true
   },
   "outputs": [],
   "source": [
    "imported_data = pd.read_csv('titanic-data.csv')"
   ]
  },
  {
   "cell_type": "code",
   "execution_count": 26,
   "metadata": {},
   "outputs": [
    {
     "data": {
      "text/html": [
       "<div>\n",
       "<style>\n",
       "    .dataframe thead tr:only-child th {\n",
       "        text-align: right;\n",
       "    }\n",
       "\n",
       "    .dataframe thead th {\n",
       "        text-align: left;\n",
       "    }\n",
       "\n",
       "    .dataframe tbody tr th {\n",
       "        vertical-align: top;\n",
       "    }\n",
       "</style>\n",
       "<table border=\"1\" class=\"dataframe\">\n",
       "  <thead>\n",
       "    <tr style=\"text-align: right;\">\n",
       "      <th></th>\n",
       "      <th>PassengerId</th>\n",
       "      <th>Survived</th>\n",
       "      <th>Pclass</th>\n",
       "      <th>Name</th>\n",
       "      <th>Sex</th>\n",
       "      <th>Age</th>\n",
       "      <th>SibSp</th>\n",
       "      <th>Parch</th>\n",
       "      <th>Ticket</th>\n",
       "      <th>Fare</th>\n",
       "      <th>Cabin</th>\n",
       "      <th>Embarked</th>\n",
       "    </tr>\n",
       "  </thead>\n",
       "  <tbody>\n",
       "    <tr>\n",
       "      <th>0</th>\n",
       "      <td>1</td>\n",
       "      <td>0</td>\n",
       "      <td>3</td>\n",
       "      <td>Braund, Mr. Owen Harris</td>\n",
       "      <td>male</td>\n",
       "      <td>22.0</td>\n",
       "      <td>1</td>\n",
       "      <td>0</td>\n",
       "      <td>A/5 21171</td>\n",
       "      <td>7.2500</td>\n",
       "      <td>NaN</td>\n",
       "      <td>S</td>\n",
       "    </tr>\n",
       "    <tr>\n",
       "      <th>1</th>\n",
       "      <td>2</td>\n",
       "      <td>1</td>\n",
       "      <td>1</td>\n",
       "      <td>Cumings, Mrs. John Bradley (Florence Briggs Th...</td>\n",
       "      <td>female</td>\n",
       "      <td>38.0</td>\n",
       "      <td>1</td>\n",
       "      <td>0</td>\n",
       "      <td>PC 17599</td>\n",
       "      <td>71.2833</td>\n",
       "      <td>C85</td>\n",
       "      <td>C</td>\n",
       "    </tr>\n",
       "    <tr>\n",
       "      <th>2</th>\n",
       "      <td>3</td>\n",
       "      <td>1</td>\n",
       "      <td>3</td>\n",
       "      <td>Heikkinen, Miss. Laina</td>\n",
       "      <td>female</td>\n",
       "      <td>26.0</td>\n",
       "      <td>0</td>\n",
       "      <td>0</td>\n",
       "      <td>STON/O2. 3101282</td>\n",
       "      <td>7.9250</td>\n",
       "      <td>NaN</td>\n",
       "      <td>S</td>\n",
       "    </tr>\n",
       "    <tr>\n",
       "      <th>3</th>\n",
       "      <td>4</td>\n",
       "      <td>1</td>\n",
       "      <td>1</td>\n",
       "      <td>Futrelle, Mrs. Jacques Heath (Lily May Peel)</td>\n",
       "      <td>female</td>\n",
       "      <td>35.0</td>\n",
       "      <td>1</td>\n",
       "      <td>0</td>\n",
       "      <td>113803</td>\n",
       "      <td>53.1000</td>\n",
       "      <td>C123</td>\n",
       "      <td>S</td>\n",
       "    </tr>\n",
       "    <tr>\n",
       "      <th>4</th>\n",
       "      <td>5</td>\n",
       "      <td>0</td>\n",
       "      <td>3</td>\n",
       "      <td>Allen, Mr. William Henry</td>\n",
       "      <td>male</td>\n",
       "      <td>35.0</td>\n",
       "      <td>0</td>\n",
       "      <td>0</td>\n",
       "      <td>373450</td>\n",
       "      <td>8.0500</td>\n",
       "      <td>NaN</td>\n",
       "      <td>S</td>\n",
       "    </tr>\n",
       "  </tbody>\n",
       "</table>\n",
       "</div>"
      ],
      "text/plain": [
       "   PassengerId  Survived  Pclass  \\\n",
       "0            1         0       3   \n",
       "1            2         1       1   \n",
       "2            3         1       3   \n",
       "3            4         1       1   \n",
       "4            5         0       3   \n",
       "\n",
       "                                                Name     Sex   Age  SibSp  \\\n",
       "0                            Braund, Mr. Owen Harris    male  22.0      1   \n",
       "1  Cumings, Mrs. John Bradley (Florence Briggs Th...  female  38.0      1   \n",
       "2                             Heikkinen, Miss. Laina  female  26.0      0   \n",
       "3       Futrelle, Mrs. Jacques Heath (Lily May Peel)  female  35.0      1   \n",
       "4                           Allen, Mr. William Henry    male  35.0      0   \n",
       "\n",
       "   Parch            Ticket     Fare Cabin Embarked  \n",
       "0      0         A/5 21171   7.2500   NaN        S  \n",
       "1      0          PC 17599  71.2833   C85        C  \n",
       "2      0  STON/O2. 3101282   7.9250   NaN        S  \n",
       "3      0            113803  53.1000  C123        S  \n",
       "4      0            373450   8.0500   NaN        S  "
      ]
     },
     "execution_count": 26,
     "metadata": {},
     "output_type": "execute_result"
    }
   ],
   "source": [
    "imported_data.head()"
   ]
  },
  {
   "cell_type": "markdown",
   "metadata": {},
   "source": [
    "# File Definition\n",
    "\n",
    "The data in the file (shown above), is defined as :\n",
    "\n",
    "Variable\tDefinition\tKey\n",
    "* survival\tSurvival\t0 = No, 1 = Yes\n",
    "* pclass\tTicket class\t1 = 1st, 2 = 2nd, 3 = 3rd\n",
    "* sex\tSex\t\n",
    "* Age\tAge in years\t\n",
    "* sibsp\t# of siblings / spouses aboard the Titanic\t\n",
    "* parch\t# of parents / children aboard the Titanic\t\n",
    "* ticket\tTicket number\t\n",
    "* fare\tPassenger fare\t\n",
    "* cabin\tCabin number\t\n",
    "* embarked\tPort of Embarkation\tC = Cherbourg, Q = Queenstown, S = Southampton\n",
    "\n",
    "pclass: A proxy for socio-economic status (SES)\n",
    "1st = Upper\n",
    "2nd = Middle\n",
    "3rd = Lower\n",
    "\n",
    "age: Age is fractional if less than 1. If the age is estimated, is it in the form of xx.5\n",
    "\n",
    "sibsp: The dataset defines family relations in this way...\n",
    "Sibling = brother, sister, stepbrother, stepsister\n",
    "Spouse = husband, wife (mistresses and fiancés were ignored)\n",
    "\n",
    "parch: The dataset defines family relations in this way...\n",
    "Parent = mother, father\n",
    "Child = daughter, son, stepdaughter, stepson\n",
    "Some children travelled only with a nanny, therefore parch=0 for them."
   ]
  },
  {
   "cell_type": "markdown",
   "metadata": {},
   "source": [
    "# What questions will I have of the data?\n",
    "* How many passengers were onboard?\n",
    "* What was the distribution of passengers by age, sex and passenger class?\n",
    "* Where did the passengers come from?\n",
    "* How many survived (and how did survival break down by age, sex and passenger class)?\n",
    "* What was the average number of siblings that people had onboard?\n",
    "* What was the total fare for all passengers noted?\n",
    "\n",
    "However I cannot focus on all these questions, so the primary area of focus will be what variables most impacted the survival rate of peopel onboard the Titanic."
   ]
  },
  {
   "cell_type": "markdown",
   "metadata": {},
   "source": [
    "# Data Cleansing\n",
    "\n",
    "Before we get into working with this data in detail, I need to verify that there is no data missing from our data set, especially in the specific fields of interest for my analysis.\n",
    "\n",
    "I believe I will be working primarily with the \"Survived\", \"Pclass\", \"Sex\", and \"Age\" fields - but I should check all the data fields to make sure the data that I require is avaialble when I need it."
   ]
  },
  {
   "cell_type": "code",
   "execution_count": 155,
   "metadata": {},
   "outputs": [
    {
     "data": {
      "text/plain": [
       "0      22.0\n",
       "1      38.0\n",
       "2      26.0\n",
       "3      35.0\n",
       "4      35.0\n",
       "5       NaN\n",
       "6      54.0\n",
       "7       2.0\n",
       "8      27.0\n",
       "9      14.0\n",
       "10      4.0\n",
       "11     58.0\n",
       "12     20.0\n",
       "13     39.0\n",
       "14     14.0\n",
       "15     55.0\n",
       "16      2.0\n",
       "17      NaN\n",
       "18     31.0\n",
       "19      NaN\n",
       "20     35.0\n",
       "21     34.0\n",
       "22     15.0\n",
       "23     28.0\n",
       "24      8.0\n",
       "25     38.0\n",
       "26      NaN\n",
       "27     19.0\n",
       "28      NaN\n",
       "29      NaN\n",
       "       ... \n",
       "861    21.0\n",
       "862    48.0\n",
       "863     NaN\n",
       "864    24.0\n",
       "865    42.0\n",
       "866    27.0\n",
       "867    31.0\n",
       "868     NaN\n",
       "869     4.0\n",
       "870    26.0\n",
       "871    47.0\n",
       "872    33.0\n",
       "873    47.0\n",
       "874    28.0\n",
       "875    15.0\n",
       "876    20.0\n",
       "877    19.0\n",
       "878     NaN\n",
       "879    56.0\n",
       "880    25.0\n",
       "881    33.0\n",
       "882    22.0\n",
       "883    28.0\n",
       "884    25.0\n",
       "885    39.0\n",
       "886    27.0\n",
       "887    19.0\n",
       "888     NaN\n",
       "889    26.0\n",
       "890    32.0\n",
       "Name: Age, Length: 891, dtype: float64"
      ]
     },
     "execution_count": 155,
     "metadata": {},
     "output_type": "execute_result"
    }
   ],
   "source": [
    "imported_data['Age']"
   ]
  },
  {
   "cell_type": "code",
   "execution_count": 133,
   "metadata": {},
   "outputs": [
    {
     "data": {
      "text/plain": [
       "array(['male', 'female'], dtype=object)"
      ]
     },
     "execution_count": 133,
     "metadata": {},
     "output_type": "execute_result"
    }
   ],
   "source": [
    "imported_data['Sex'].unique()"
   ]
  },
  {
   "cell_type": "code",
   "execution_count": 134,
   "metadata": {},
   "outputs": [
    {
     "data": {
      "text/plain": [
       "array([3, 1, 2])"
      ]
     },
     "execution_count": 134,
     "metadata": {},
     "output_type": "execute_result"
    }
   ],
   "source": [
    "imported_data['Pclass'].unique()"
   ]
  },
  {
   "cell_type": "code",
   "execution_count": 135,
   "metadata": {},
   "outputs": [
    {
     "data": {
      "text/plain": [
       "array([0, 1])"
      ]
     },
     "execution_count": 135,
     "metadata": {},
     "output_type": "execute_result"
    }
   ],
   "source": [
    "imported_data['Survived'].unique()"
   ]
  },
  {
   "cell_type": "code",
   "execution_count": 136,
   "metadata": {},
   "outputs": [
    {
     "data": {
      "text/plain": [
       "array(['Braund, Mr. Owen Harris',\n",
       "       'Cumings, Mrs. John Bradley (Florence Briggs Thayer)',\n",
       "       'Heikkinen, Miss. Laina',\n",
       "       'Futrelle, Mrs. Jacques Heath (Lily May Peel)',\n",
       "       'Allen, Mr. William Henry', 'Moran, Mr. James',\n",
       "       'McCarthy, Mr. Timothy J', 'Palsson, Master. Gosta Leonard',\n",
       "       'Johnson, Mrs. Oscar W (Elisabeth Vilhelmina Berg)',\n",
       "       'Nasser, Mrs. Nicholas (Adele Achem)',\n",
       "       'Sandstrom, Miss. Marguerite Rut', 'Bonnell, Miss. Elizabeth',\n",
       "       'Saundercock, Mr. William Henry', 'Andersson, Mr. Anders Johan',\n",
       "       'Vestrom, Miss. Hulda Amanda Adolfina',\n",
       "       'Hewlett, Mrs. (Mary D Kingcome) ', 'Rice, Master. Eugene',\n",
       "       'Williams, Mr. Charles Eugene',\n",
       "       'Vander Planke, Mrs. Julius (Emelia Maria Vandemoortele)',\n",
       "       'Masselmani, Mrs. Fatima', 'Fynney, Mr. Joseph J',\n",
       "       'Beesley, Mr. Lawrence', 'McGowan, Miss. Anna \"Annie\"',\n",
       "       'Sloper, Mr. William Thompson', 'Palsson, Miss. Torborg Danira',\n",
       "       'Asplund, Mrs. Carl Oscar (Selma Augusta Emilia Johansson)',\n",
       "       'Emir, Mr. Farred Chehab', 'Fortune, Mr. Charles Alexander',\n",
       "       'O\\'Dwyer, Miss. Ellen \"Nellie\"', 'Todoroff, Mr. Lalio',\n",
       "       'Uruchurtu, Don. Manuel E',\n",
       "       'Spencer, Mrs. William Augustus (Marie Eugenie)',\n",
       "       'Glynn, Miss. Mary Agatha', 'Wheadon, Mr. Edward H',\n",
       "       'Meyer, Mr. Edgar Joseph', 'Holverson, Mr. Alexander Oskar',\n",
       "       'Mamee, Mr. Hanna', 'Cann, Mr. Ernest Charles',\n",
       "       'Vander Planke, Miss. Augusta Maria', 'Nicola-Yarred, Miss. Jamila',\n",
       "       'Ahlin, Mrs. Johan (Johanna Persdotter Larsson)',\n",
       "       'Turpin, Mrs. William John Robert (Dorothy Ann Wonnacott)',\n",
       "       'Kraeff, Mr. Theodor', 'Laroche, Miss. Simonne Marie Anne Andree',\n",
       "       'Devaney, Miss. Margaret Delia', 'Rogers, Mr. William John',\n",
       "       'Lennon, Mr. Denis', \"O'Driscoll, Miss. Bridget\",\n",
       "       'Samaan, Mr. Youssef',\n",
       "       'Arnold-Franchi, Mrs. Josef (Josefine Franchi)',\n",
       "       'Panula, Master. Juha Niilo', 'Nosworthy, Mr. Richard Cater',\n",
       "       'Harper, Mrs. Henry Sleeper (Myna Haxtun)',\n",
       "       'Faunthorpe, Mrs. Lizzie (Elizabeth Anne Wilkinson)',\n",
       "       'Ostby, Mr. Engelhart Cornelius', 'Woolner, Mr. Hugh',\n",
       "       'Rugg, Miss. Emily', 'Novel, Mr. Mansouer',\n",
       "       'West, Miss. Constance Mirium',\n",
       "       'Goodwin, Master. William Frederick', 'Sirayanian, Mr. Orsen',\n",
       "       'Icard, Miss. Amelie', 'Harris, Mr. Henry Birkhardt',\n",
       "       'Skoog, Master. Harald', 'Stewart, Mr. Albert A',\n",
       "       'Moubarek, Master. Gerios', 'Nye, Mrs. (Elizabeth Ramell)',\n",
       "       'Crease, Mr. Ernest James', 'Andersson, Miss. Erna Alexandra',\n",
       "       'Kink, Mr. Vincenz', 'Jenkin, Mr. Stephen Curnow',\n",
       "       'Goodwin, Miss. Lillian Amy', 'Hood, Mr. Ambrose Jr',\n",
       "       'Chronopoulos, Mr. Apostolos', 'Bing, Mr. Lee',\n",
       "       'Moen, Mr. Sigurd Hansen', 'Staneff, Mr. Ivan',\n",
       "       'Moutal, Mr. Rahamin Haim', 'Caldwell, Master. Alden Gates',\n",
       "       'Dowdell, Miss. Elizabeth', 'Waelens, Mr. Achille',\n",
       "       'Sheerlinck, Mr. Jan Baptist', 'McDermott, Miss. Brigdet Delia',\n",
       "       'Carrau, Mr. Francisco M', 'Ilett, Miss. Bertha',\n",
       "       'Backstrom, Mrs. Karl Alfred (Maria Mathilda Gustafsson)',\n",
       "       'Ford, Mr. William Neal', 'Slocovski, Mr. Selman Francis',\n",
       "       'Fortune, Miss. Mabel Helen', 'Celotti, Mr. Francesco',\n",
       "       'Christmann, Mr. Emil', 'Andreasson, Mr. Paul Edvin',\n",
       "       'Chaffee, Mr. Herbert Fuller', 'Dean, Mr. Bertram Frank',\n",
       "       'Coxon, Mr. Daniel', 'Shorney, Mr. Charles Joseph',\n",
       "       'Goldschmidt, Mr. George B', 'Greenfield, Mr. William Bertram',\n",
       "       'Doling, Mrs. John T (Ada Julia Bone)', 'Kantor, Mr. Sinai',\n",
       "       'Petranec, Miss. Matilda', 'Petroff, Mr. Pastcho (\"Pentcho\")',\n",
       "       'White, Mr. Richard Frasar', 'Johansson, Mr. Gustaf Joel',\n",
       "       'Gustafsson, Mr. Anders Vilhelm', 'Mionoff, Mr. Stoytcho',\n",
       "       'Salkjelsvik, Miss. Anna Kristine', 'Moss, Mr. Albert Johan',\n",
       "       'Rekic, Mr. Tido', 'Moran, Miss. Bertha',\n",
       "       'Porter, Mr. Walter Chamberlain', 'Zabour, Miss. Hileni',\n",
       "       'Barton, Mr. David John', 'Jussila, Miss. Katriina',\n",
       "       'Attalah, Miss. Malake', 'Pekoniemi, Mr. Edvard',\n",
       "       'Connors, Mr. Patrick', 'Turpin, Mr. William John Robert',\n",
       "       'Baxter, Mr. Quigg Edmond', 'Andersson, Miss. Ellis Anna Maria',\n",
       "       'Hickman, Mr. Stanley George', 'Moore, Mr. Leonard Charles',\n",
       "       'Nasser, Mr. Nicholas', 'Webber, Miss. Susan',\n",
       "       'White, Mr. Percival Wayland', 'Nicola-Yarred, Master. Elias',\n",
       "       'McMahon, Mr. Martin', 'Madsen, Mr. Fridtjof Arne',\n",
       "       'Peter, Miss. Anna', 'Ekstrom, Mr. Johan', 'Drazenoic, Mr. Jozef',\n",
       "       'Coelho, Mr. Domingos Fernandeo',\n",
       "       'Robins, Mrs. Alexander A (Grace Charity Laury)',\n",
       "       'Weisz, Mrs. Leopold (Mathilde Francoise Pede)',\n",
       "       'Sobey, Mr. Samuel James Hayden', 'Richard, Mr. Emile',\n",
       "       'Newsom, Miss. Helen Monypeny', 'Futrelle, Mr. Jacques Heath',\n",
       "       'Osen, Mr. Olaf Elon', 'Giglio, Mr. Victor',\n",
       "       'Boulos, Mrs. Joseph (Sultana)', 'Nysten, Miss. Anna Sofia',\n",
       "       'Hakkarainen, Mrs. Pekka Pietari (Elin Matilda Dolck)',\n",
       "       'Burke, Mr. Jeremiah', 'Andrew, Mr. Edgardo Samuel',\n",
       "       'Nicholls, Mr. Joseph Charles',\n",
       "       'Andersson, Mr. August Edvard (\"Wennerstrom\")',\n",
       "       'Ford, Miss. Robina Maggie \"Ruby\"',\n",
       "       'Navratil, Mr. Michel (\"Louis M Hoffman\")',\n",
       "       'Byles, Rev. Thomas Roussel Davids', 'Bateman, Rev. Robert James',\n",
       "       'Pears, Mrs. Thomas (Edith Wearne)', 'Meo, Mr. Alfonzo',\n",
       "       'van Billiard, Mr. Austin Blyler', 'Olsen, Mr. Ole Martin',\n",
       "       'Williams, Mr. Charles Duane', 'Gilnagh, Miss. Katherine \"Katie\"',\n",
       "       'Corn, Mr. Harry', 'Smiljanic, Mr. Mile',\n",
       "       'Sage, Master. Thomas Henry', 'Cribb, Mr. John Hatfield',\n",
       "       'Watt, Mrs. James (Elizabeth \"Bessie\" Inglis Milne)',\n",
       "       'Bengtsson, Mr. John Viktor', 'Calic, Mr. Jovo',\n",
       "       'Panula, Master. Eino Viljami',\n",
       "       'Goldsmith, Master. Frank John William \"Frankie\"',\n",
       "       'Chibnall, Mrs. (Edith Martha Bowerman)',\n",
       "       'Skoog, Mrs. William (Anna Bernhardina Karlsson)',\n",
       "       'Baumann, Mr. John D', 'Ling, Mr. Lee', 'Van der hoef, Mr. Wyckoff',\n",
       "       'Rice, Master. Arthur', 'Johnson, Miss. Eleanor Ileen',\n",
       "       'Sivola, Mr. Antti Wilhelm', 'Smith, Mr. James Clinch',\n",
       "       'Klasen, Mr. Klas Albin', 'Lefebre, Master. Henry Forbes',\n",
       "       'Isham, Miss. Ann Elizabeth', 'Hale, Mr. Reginald',\n",
       "       'Leonard, Mr. Lionel', 'Sage, Miss. Constance Gladys',\n",
       "       'Pernot, Mr. Rene', 'Asplund, Master. Clarence Gustaf Hugo',\n",
       "       'Becker, Master. Richard F', 'Kink-Heilmann, Miss. Luise Gretchen',\n",
       "       'Rood, Mr. Hugh Roscoe',\n",
       "       'O\\'Brien, Mrs. Thomas (Johanna \"Hannah\" Godfrey)',\n",
       "       'Romaine, Mr. Charles Hallace (\"Mr C Rolmane\")', 'Bourke, Mr. John',\n",
       "       'Turcin, Mr. Stjepan', 'Pinsky, Mrs. (Rosa)',\n",
       "       'Carbines, Mr. William',\n",
       "       'Andersen-Jensen, Miss. Carla Christine Nielsine',\n",
       "       'Navratil, Master. Michel M',\n",
       "       'Brown, Mrs. James Joseph (Margaret Tobin)', 'Lurette, Miss. Elise',\n",
       "       'Mernagh, Mr. Robert', 'Olsen, Mr. Karl Siegwart Andreas',\n",
       "       'Madigan, Miss. Margaret \"Maggie\"',\n",
       "       'Yrois, Miss. Henriette (\"Mrs Harbeck\")',\n",
       "       'Vande Walle, Mr. Nestor Cyriel', 'Sage, Mr. Frederick',\n",
       "       'Johanson, Mr. Jakob Alfred', 'Youseff, Mr. Gerious',\n",
       "       'Cohen, Mr. Gurshon \"Gus\"', 'Strom, Miss. Telma Matilda',\n",
       "       'Backstrom, Mr. Karl Alfred', 'Albimona, Mr. Nassef Cassem',\n",
       "       'Carr, Miss. Helen \"Ellen\"', 'Blank, Mr. Henry', 'Ali, Mr. Ahmed',\n",
       "       'Cameron, Miss. Clear Annie', 'Perkin, Mr. John Henry',\n",
       "       'Givard, Mr. Hans Kristensen', 'Kiernan, Mr. Philip',\n",
       "       'Newell, Miss. Madeleine', 'Honkanen, Miss. Eliina',\n",
       "       'Jacobsohn, Mr. Sidney Samuel', 'Bazzani, Miss. Albina',\n",
       "       'Harris, Mr. Walter', 'Sunderland, Mr. Victor Francis',\n",
       "       'Bracken, Mr. James H', 'Green, Mr. George Henry',\n",
       "       'Nenkoff, Mr. Christo', 'Hoyt, Mr. Frederick Maxfield',\n",
       "       'Berglund, Mr. Karl Ivar Sven', 'Mellors, Mr. William John',\n",
       "       'Lovell, Mr. John Hall (\"Henry\")', 'Fahlstrom, Mr. Arne Jonas',\n",
       "       'Lefebre, Miss. Mathilde',\n",
       "       'Harris, Mrs. Henry Birkhardt (Irene Wallach)',\n",
       "       'Larsson, Mr. Bengt Edvin', 'Sjostedt, Mr. Ernst Adolf',\n",
       "       'Asplund, Miss. Lillian Gertrud',\n",
       "       'Leyson, Mr. Robert William Norman', 'Harknett, Miss. Alice Phoebe',\n",
       "       'Hold, Mr. Stephen', 'Collyer, Miss. Marjorie \"Lottie\"',\n",
       "       'Pengelly, Mr. Frederick William', 'Hunt, Mr. George Henry',\n",
       "       'Zabour, Miss. Thamine', 'Murphy, Miss. Katherine \"Kate\"',\n",
       "       'Coleridge, Mr. Reginald Charles', 'Maenpaa, Mr. Matti Alexanteri',\n",
       "       'Attalah, Mr. Sleiman', 'Minahan, Dr. William Edward',\n",
       "       'Lindahl, Miss. Agda Thorilda Viktoria',\n",
       "       'Hamalainen, Mrs. William (Anna)', 'Beckwith, Mr. Richard Leonard',\n",
       "       'Carter, Rev. Ernest Courtenay', 'Reed, Mr. James George',\n",
       "       'Strom, Mrs. Wilhelm (Elna Matilda Persson)',\n",
       "       'Stead, Mr. William Thomas', 'Lobb, Mr. William Arthur',\n",
       "       'Rosblom, Mrs. Viktor (Helena Wilhelmina)',\n",
       "       'Touma, Mrs. Darwis (Hanne Youssef Razi)',\n",
       "       'Thorne, Mrs. Gertrude Maybelle', 'Cherry, Miss. Gladys',\n",
       "       'Ward, Miss. Anna', 'Parrish, Mrs. (Lutie Davis)',\n",
       "       'Smith, Mr. Thomas', 'Asplund, Master. Edvin Rojj Felix',\n",
       "       'Taussig, Mr. Emil', 'Harrison, Mr. William', 'Henry, Miss. Delia',\n",
       "       'Reeves, Mr. David', 'Panula, Mr. Ernesti Arvid',\n",
       "       'Persson, Mr. Ernst Ulrik',\n",
       "       'Graham, Mrs. William Thompson (Edith Junkins)',\n",
       "       'Bissette, Miss. Amelia', 'Cairns, Mr. Alexander',\n",
       "       'Tornquist, Mr. William Henry',\n",
       "       'Mellinger, Mrs. (Elizabeth Anne Maidment)',\n",
       "       'Natsch, Mr. Charles H', 'Healy, Miss. Hanora \"Nora\"',\n",
       "       'Andrews, Miss. Kornelia Theodosia',\n",
       "       'Lindblom, Miss. Augusta Charlotta', 'Parkes, Mr. Francis \"Frank\"',\n",
       "       'Rice, Master. Eric', 'Abbott, Mrs. Stanton (Rosa Hunt)',\n",
       "       'Duane, Mr. Frank', 'Olsson, Mr. Nils Johan Goransson',\n",
       "       'de Pelsmaeker, Mr. Alfons', 'Dorking, Mr. Edward Arthur',\n",
       "       'Smith, Mr. Richard William', 'Stankovic, Mr. Ivan',\n",
       "       'de Mulder, Mr. Theodore', 'Naidenoff, Mr. Penko',\n",
       "       'Hosono, Mr. Masabumi', 'Connolly, Miss. Kate',\n",
       "       'Barber, Miss. Ellen \"Nellie\"',\n",
       "       'Bishop, Mrs. Dickinson H (Helen Walton)', 'Levy, Mr. Rene Jacques',\n",
       "       'Haas, Miss. Aloisia', 'Mineff, Mr. Ivan', 'Lewy, Mr. Ervin G',\n",
       "       'Hanna, Mr. Mansour', 'Allison, Miss. Helen Loraine',\n",
       "       'Saalfeld, Mr. Adolphe',\n",
       "       'Baxter, Mrs. James (Helene DeLaudeniere Chaput)',\n",
       "       'Kelly, Miss. Anna Katherine \"Annie Kate\"', 'McCoy, Mr. Bernard',\n",
       "       'Johnson, Mr. William Cahoone Jr', 'Keane, Miss. Nora A',\n",
       "       'Williams, Mr. Howard Hugh \"Harry\"',\n",
       "       'Allison, Master. Hudson Trevor', 'Fleming, Miss. Margaret',\n",
       "       'Penasco y Castellana, Mrs. Victor de Satode (Maria Josefa Perez de Soto y Vallejo)',\n",
       "       'Abelson, Mr. Samuel', 'Francatelli, Miss. Laura Mabel',\n",
       "       'Hays, Miss. Margaret Bechstein', 'Ryerson, Miss. Emily Borie',\n",
       "       'Lahtinen, Mrs. William (Anna Sylfven)', 'Hendekovic, Mr. Ignjac',\n",
       "       'Hart, Mr. Benjamin', 'Nilsson, Miss. Helmina Josefina',\n",
       "       'Kantor, Mrs. Sinai (Miriam Sternin)', 'Moraweck, Dr. Ernest',\n",
       "       'Wick, Miss. Mary Natalie',\n",
       "       'Spedden, Mrs. Frederic Oakley (Margaretta Corning Stone)',\n",
       "       'Dennis, Mr. Samuel', 'Danoff, Mr. Yoto',\n",
       "       'Slayter, Miss. Hilda Mary',\n",
       "       'Caldwell, Mrs. Albert Francis (Sylvia Mae Harbaugh)',\n",
       "       'Sage, Mr. George John Jr', 'Young, Miss. Marie Grice',\n",
       "       'Nysveen, Mr. Johan Hansen', 'Ball, Mrs. (Ada E Hall)',\n",
       "       'Goldsmith, Mrs. Frank John (Emily Alice Brown)',\n",
       "       'Hippach, Miss. Jean Gertrude', 'McCoy, Miss. Agnes',\n",
       "       'Partner, Mr. Austen', 'Graham, Mr. George Edward',\n",
       "       'Vander Planke, Mr. Leo Edmondus',\n",
       "       'Frauenthal, Mrs. Henry William (Clara Heinsheimer)',\n",
       "       'Denkoff, Mr. Mitto', 'Pears, Mr. Thomas Clinton',\n",
       "       'Burns, Miss. Elizabeth Margaret', 'Dahl, Mr. Karl Edwart',\n",
       "       'Blackwell, Mr. Stephen Weart', 'Navratil, Master. Edmond Roger',\n",
       "       'Fortune, Miss. Alice Elizabeth', 'Collander, Mr. Erik Gustaf',\n",
       "       'Sedgwick, Mr. Charles Frederick Waddington',\n",
       "       'Fox, Mr. Stanley Hubert', 'Brown, Miss. Amelia \"Mildred\"',\n",
       "       'Smith, Miss. Marion Elsie',\n",
       "       'Davison, Mrs. Thomas Henry (Mary E Finck)',\n",
       "       'Coutts, Master. William Loch \"William\"', 'Dimic, Mr. Jovan',\n",
       "       'Odahl, Mr. Nils Martin', 'Williams-Lambert, Mr. Fletcher Fellows',\n",
       "       'Elias, Mr. Tannous', 'Arnold-Franchi, Mr. Josef',\n",
       "       'Yousif, Mr. Wazli', 'Vanden Steen, Mr. Leo Peter',\n",
       "       'Bowerman, Miss. Elsie Edith', 'Funk, Miss. Annie Clemmer',\n",
       "       'McGovern, Miss. Mary', 'Mockler, Miss. Helen Mary \"Ellie\"',\n",
       "       'Skoog, Mr. Wilhelm', 'del Carlo, Mr. Sebastiano',\n",
       "       'Barbara, Mrs. (Catherine David)', 'Asim, Mr. Adola',\n",
       "       \"O'Brien, Mr. Thomas\", 'Adahl, Mr. Mauritz Nils Martin',\n",
       "       'Warren, Mrs. Frank Manley (Anna Sophia Atkinson)',\n",
       "       'Moussa, Mrs. (Mantoura Boulos)', 'Jermyn, Miss. Annie',\n",
       "       'Aubart, Mme. Leontine Pauline', 'Harder, Mr. George Achilles',\n",
       "       'Wiklund, Mr. Jakob Alfred', 'Beavan, Mr. William Thomas',\n",
       "       'Ringhini, Mr. Sante', 'Palsson, Miss. Stina Viola',\n",
       "       'Meyer, Mrs. Edgar Joseph (Leila Saks)',\n",
       "       'Landergren, Miss. Aurora Adelia', 'Widener, Mr. Harry Elkins',\n",
       "       'Betros, Mr. Tannous', 'Gustafsson, Mr. Karl Gideon',\n",
       "       'Bidois, Miss. Rosalie', 'Nakid, Miss. Maria (\"Mary\")',\n",
       "       'Tikkanen, Mr. Juho',\n",
       "       'Holverson, Mrs. Alexander Oskar (Mary Aline Towner)',\n",
       "       'Plotcharsky, Mr. Vasil', 'Davies, Mr. Charles Henry',\n",
       "       'Goodwin, Master. Sidney Leonard', 'Buss, Miss. Kate',\n",
       "       'Sadlier, Mr. Matthew', 'Lehmann, Miss. Bertha',\n",
       "       'Carter, Mr. William Ernest', 'Jansson, Mr. Carl Olof',\n",
       "       'Gustafsson, Mr. Johan Birger', 'Newell, Miss. Marjorie',\n",
       "       'Sandstrom, Mrs. Hjalmar (Agnes Charlotta Bengtsson)',\n",
       "       'Johansson, Mr. Erik', 'Olsson, Miss. Elina',\n",
       "       'McKane, Mr. Peter David', 'Pain, Dr. Alfred',\n",
       "       'Trout, Mrs. William H (Jessie L)', 'Niskanen, Mr. Juha',\n",
       "       'Adams, Mr. John', 'Jussila, Miss. Mari Aina',\n",
       "       'Hakkarainen, Mr. Pekka Pietari', 'Oreskovic, Miss. Marija',\n",
       "       'Gale, Mr. Shadrach', 'Widegren, Mr. Carl/Charles Peter',\n",
       "       'Richards, Master. William Rowe',\n",
       "       'Birkeland, Mr. Hans Martin Monsen', 'Lefebre, Miss. Ida',\n",
       "       'Sdycoff, Mr. Todor', 'Hart, Mr. Henry', 'Minahan, Miss. Daisy E',\n",
       "       'Cunningham, Mr. Alfred Fleming', 'Sundman, Mr. Johan Julian',\n",
       "       'Meek, Mrs. Thomas (Annie Louise Rowley)',\n",
       "       'Drew, Mrs. James Vivian (Lulu Thorne Christian)',\n",
       "       'Silven, Miss. Lyyli Karoliina', 'Matthews, Mr. William John',\n",
       "       'Van Impe, Miss. Catharina', 'Gheorgheff, Mr. Stanio',\n",
       "       'Charters, Mr. David', 'Zimmerman, Mr. Leo',\n",
       "       'Danbom, Mrs. Ernst Gilbert (Anna Sigrid Maria Brogren)',\n",
       "       'Rosblom, Mr. Viktor Richard', 'Wiseman, Mr. Phillippe',\n",
       "       'Clarke, Mrs. Charles V (Ada Maria Winfield)',\n",
       "       'Phillips, Miss. Kate Florence (\"Mrs Kate Louise Phillips Marshall\")',\n",
       "       'Flynn, Mr. James', 'Pickard, Mr. Berk (Berk Trembisky)',\n",
       "       'Bjornstrom-Steffansson, Mr. Mauritz Hakan',\n",
       "       'Thorneycroft, Mrs. Percival (Florence Kate White)',\n",
       "       'Louch, Mrs. Charles Alexander (Alice Adelaide Slow)',\n",
       "       'Kallio, Mr. Nikolai Erland', 'Silvey, Mr. William Baird',\n",
       "       'Carter, Miss. Lucile Polk', 'Ford, Miss. Doolina Margaret \"Daisy\"',\n",
       "       'Richards, Mrs. Sidney (Emily Hocking)', 'Fortune, Mr. Mark',\n",
       "       'Kvillner, Mr. Johan Henrik Johannesson',\n",
       "       'Hart, Mrs. Benjamin (Esther Ada Bloomfield)', 'Hampe, Mr. Leon',\n",
       "       'Petterson, Mr. Johan Emil', 'Reynaldo, Ms. Encarnacion',\n",
       "       'Johannesen-Bratthammer, Mr. Bernt', 'Dodge, Master. Washington',\n",
       "       'Mellinger, Miss. Madeleine Violet', 'Seward, Mr. Frederic Kimber',\n",
       "       'Baclini, Miss. Marie Catherine', 'Peuchen, Major. Arthur Godfrey',\n",
       "       'West, Mr. Edwy Arthur', 'Hagland, Mr. Ingvald Olai Olsen',\n",
       "       'Foreman, Mr. Benjamin Laventall', 'Goldenberg, Mr. Samuel L',\n",
       "       'Peduzzi, Mr. Joseph', 'Jalsevac, Mr. Ivan',\n",
       "       'Millet, Mr. Francis Davis', 'Kenyon, Mrs. Frederick R (Marion)',\n",
       "       'Toomey, Miss. Ellen', \"O'Connor, Mr. Maurice\",\n",
       "       'Anderson, Mr. Harry', 'Morley, Mr. William', 'Gee, Mr. Arthur H',\n",
       "       'Milling, Mr. Jacob Christian', 'Maisner, Mr. Simon',\n",
       "       'Goncalves, Mr. Manuel Estanslas', 'Campbell, Mr. William',\n",
       "       'Smart, Mr. John Montgomery', 'Scanlan, Mr. James',\n",
       "       'Baclini, Miss. Helene Barbara', 'Keefe, Mr. Arthur',\n",
       "       'Cacic, Mr. Luka', 'West, Mrs. Edwy Arthur (Ada Mary Worth)',\n",
       "       'Jerwan, Mrs. Amin S (Marie Marthe Thuillard)',\n",
       "       'Strandberg, Miss. Ida Sofia', 'Clifford, Mr. George Quincy',\n",
       "       'Renouf, Mr. Peter Henry', 'Braund, Mr. Lewis Richard',\n",
       "       'Karlsson, Mr. Nils August', 'Hirvonen, Miss. Hildur E',\n",
       "       'Goodwin, Master. Harold Victor',\n",
       "       'Frost, Mr. Anthony Wood \"Archie\"', 'Rouse, Mr. Richard Henry',\n",
       "       'Turkula, Mrs. (Hedwig)', 'Bishop, Mr. Dickinson H',\n",
       "       'Lefebre, Miss. Jeannie',\n",
       "       'Hoyt, Mrs. Frederick Maxfield (Jane Anne Forby)',\n",
       "       'Kent, Mr. Edward Austin', 'Somerton, Mr. Francis William',\n",
       "       'Coutts, Master. Eden Leslie \"Neville\"',\n",
       "       'Hagland, Mr. Konrad Mathias Reiersen', 'Windelov, Mr. Einar',\n",
       "       'Molson, Mr. Harry Markland', 'Artagaveytia, Mr. Ramon',\n",
       "       'Stanley, Mr. Edward Roland', 'Yousseff, Mr. Gerious',\n",
       "       'Eustis, Miss. Elizabeth Mussey', 'Shellard, Mr. Frederick William',\n",
       "       'Allison, Mrs. Hudson J C (Bessie Waldo Daniels)',\n",
       "       'Svensson, Mr. Olof', 'Calic, Mr. Petar', 'Canavan, Miss. Mary',\n",
       "       \"O'Sullivan, Miss. Bridget Mary\", 'Laitinen, Miss. Kristina Sofia',\n",
       "       'Maioni, Miss. Roberta',\n",
       "       'Penasco y Castellana, Mr. Victor de Satode',\n",
       "       'Quick, Mrs. Frederick Charles (Jane Richards)',\n",
       "       'Bradley, Mr. George (\"George Arthur Brayton\")',\n",
       "       'Olsen, Mr. Henry Margido', 'Lang, Mr. Fang',\n",
       "       'Daly, Mr. Eugene Patrick', 'Webber, Mr. James',\n",
       "       'McGough, Mr. James Robert',\n",
       "       'Rothschild, Mrs. Martin (Elizabeth L. Barrett)',\n",
       "       'Coleff, Mr. Satio', 'Walker, Mr. William Anderson',\n",
       "       'Lemore, Mrs. (Amelia Milley)', 'Ryan, Mr. Patrick',\n",
       "       'Angle, Mrs. William A (Florence \"Mary\" Agnes Hughes)',\n",
       "       'Pavlovic, Mr. Stefo', 'Perreault, Miss. Anne', 'Vovk, Mr. Janko',\n",
       "       'Lahoud, Mr. Sarkis',\n",
       "       'Hippach, Mrs. Louis Albert (Ida Sophia Fischer)',\n",
       "       'Kassem, Mr. Fared', 'Farrell, Mr. James', 'Ridsdale, Miss. Lucy',\n",
       "       'Farthing, Mr. John', 'Salonen, Mr. Johan Werner',\n",
       "       'Hocking, Mr. Richard George', 'Quick, Miss. Phyllis May',\n",
       "       'Toufik, Mr. Nakli', 'Elias, Mr. Joseph Jr',\n",
       "       'Peter, Mrs. Catherine (Catherine Rizk)', 'Cacic, Miss. Marija',\n",
       "       'Hart, Miss. Eva Miriam', 'Butt, Major. Archibald Willingham',\n",
       "       'LeRoy, Miss. Bertha', 'Risien, Mr. Samuel Beard',\n",
       "       'Frolicher, Miss. Hedwig Margaritha', 'Crosby, Miss. Harriet R',\n",
       "       'Andersson, Miss. Ingeborg Constanzia',\n",
       "       'Andersson, Miss. Sigrid Elisabeth', 'Beane, Mr. Edward',\n",
       "       'Douglas, Mr. Walter Donald', 'Nicholson, Mr. Arthur Ernest',\n",
       "       'Beane, Mrs. Edward (Ethel Clarke)', 'Padro y Manent, Mr. Julian',\n",
       "       'Goldsmith, Mr. Frank John', 'Davies, Master. John Morgan Jr',\n",
       "       'Thayer, Mr. John Borland Jr', 'Sharp, Mr. Percival James R',\n",
       "       \"O'Brien, Mr. Timothy\", 'Leeni, Mr. Fahim (\"Philip Zenni\")',\n",
       "       'Ohman, Miss. Velin', 'Wright, Mr. George',\n",
       "       'Duff Gordon, Lady. (Lucille Christiana Sutherland) (\"Mrs Morgan\")',\n",
       "       'Robbins, Mr. Victor', 'Taussig, Mrs. Emil (Tillie Mandelbaum)',\n",
       "       'de Messemaeker, Mrs. Guillaume Joseph (Emma)',\n",
       "       'Morrow, Mr. Thomas Rowan', 'Sivic, Mr. Husein',\n",
       "       'Norman, Mr. Robert Douglas', 'Simmons, Mr. John',\n",
       "       'Meanwell, Miss. (Marion Ogden)', 'Davies, Mr. Alfred J',\n",
       "       'Stoytcheff, Mr. Ilia',\n",
       "       'Palsson, Mrs. Nils (Alma Cornelia Berglund)',\n",
       "       'Doharr, Mr. Tannous', 'Jonsson, Mr. Carl', 'Harris, Mr. George',\n",
       "       'Appleton, Mrs. Edward Dale (Charlotte Lamson)',\n",
       "       'Flynn, Mr. John Irwin (\"Irving\")', 'Kelly, Miss. Mary',\n",
       "       'Rush, Mr. Alfred George John', 'Patchett, Mr. George',\n",
       "       'Garside, Miss. Ethel', 'Silvey, Mrs. William Baird (Alice Munger)',\n",
       "       'Caram, Mrs. Joseph (Maria Elias)', 'Jussila, Mr. Eiriik',\n",
       "       'Christy, Miss. Julie Rachel',\n",
       "       'Thayer, Mrs. John Borland (Marian Longstreth Morris)',\n",
       "       'Downton, Mr. William James', 'Ross, Mr. John Hugo',\n",
       "       'Paulner, Mr. Uscher', 'Taussig, Miss. Ruth',\n",
       "       'Jarvis, Mr. John Denzil', 'Frolicher-Stehli, Mr. Maxmillian',\n",
       "       'Gilinski, Mr. Eliezer', 'Murdlin, Mr. Joseph',\n",
       "       'Rintamaki, Mr. Matti',\n",
       "       'Stephenson, Mrs. Walter Bertram (Martha Eustis)',\n",
       "       'Elsbury, Mr. William James', 'Bourke, Miss. Mary',\n",
       "       'Chapman, Mr. John Henry', 'Van Impe, Mr. Jean Baptiste',\n",
       "       'Leitch, Miss. Jessie Wills', 'Johnson, Mr. Alfred',\n",
       "       'Boulos, Mr. Hanna', 'Duff Gordon, Sir. Cosmo Edmund (\"Mr Morgan\")',\n",
       "       'Jacobsohn, Mrs. Sidney Samuel (Amy Frances Christy)',\n",
       "       'Slabenoff, Mr. Petco', 'Harrington, Mr. Charles H',\n",
       "       'Torber, Mr. Ernst William', 'Homer, Mr. Harry (\"Mr E Haven\")',\n",
       "       'Lindell, Mr. Edvard Bengtsson', 'Karaic, Mr. Milan',\n",
       "       'Daniel, Mr. Robert Williams',\n",
       "       'Laroche, Mrs. Joseph (Juliette Marie Louise Lafargue)',\n",
       "       'Shutes, Miss. Elizabeth W',\n",
       "       'Andersson, Mrs. Anders Johan (Alfrida Konstantia Brogren)',\n",
       "       'Jardin, Mr. Jose Neto', 'Murphy, Miss. Margaret Jane',\n",
       "       'Horgan, Mr. John', 'Brocklebank, Mr. William Alfred',\n",
       "       'Herman, Miss. Alice', 'Danbom, Mr. Ernst Gilbert',\n",
       "       'Lobb, Mrs. William Arthur (Cordelia K Stanlick)',\n",
       "       'Becker, Miss. Marion Louise', 'Gavey, Mr. Lawrence',\n",
       "       'Yasbeck, Mr. Antoni', 'Kimball, Mr. Edwin Nelson Jr',\n",
       "       'Nakid, Mr. Sahid', 'Hansen, Mr. Henry Damsgaard',\n",
       "       'Bowen, Mr. David John \"Dai\"', 'Sutton, Mr. Frederick',\n",
       "       'Kirkland, Rev. Charles Leonard', 'Longley, Miss. Gretchen Fiske',\n",
       "       'Bostandyeff, Mr. Guentcho', \"O'Connell, Mr. Patrick D\",\n",
       "       'Barkworth, Mr. Algernon Henry Wilson',\n",
       "       'Lundahl, Mr. Johan Svensson', 'Stahelin-Maeglin, Dr. Max',\n",
       "       'Parr, Mr. William Henry Marsh', 'Skoog, Miss. Mabel',\n",
       "       'Davis, Miss. Mary', 'Leinonen, Mr. Antti Gustaf',\n",
       "       'Collyer, Mr. Harvey', 'Panula, Mrs. Juha (Maria Emilia Ojala)',\n",
       "       'Thorneycroft, Mr. Percival', 'Jensen, Mr. Hans Peder',\n",
       "       'Sagesser, Mlle. Emma', 'Skoog, Miss. Margit Elizabeth',\n",
       "       'Foo, Mr. Choong', 'Baclini, Miss. Eugenie',\n",
       "       'Harper, Mr. Henry Sleeper', 'Cor, Mr. Liudevit',\n",
       "       'Simonius-Blumer, Col. Oberst Alfons', 'Willey, Mr. Edward',\n",
       "       'Stanley, Miss. Amy Zillah Elsie', 'Mitkoff, Mr. Mito',\n",
       "       'Doling, Miss. Elsie', 'Kalvik, Mr. Johannes Halvorsen',\n",
       "       'O\\'Leary, Miss. Hanora \"Norah\"', 'Hegarty, Miss. Hanora \"Nora\"',\n",
       "       'Hickman, Mr. Leonard Mark', 'Radeff, Mr. Alexander',\n",
       "       'Bourke, Mrs. John (Catherine)', 'Eitemiller, Mr. George Floyd',\n",
       "       'Newell, Mr. Arthur Webster', 'Frauenthal, Dr. Henry William',\n",
       "       'Badt, Mr. Mohamed', 'Colley, Mr. Edward Pomeroy',\n",
       "       'Coleff, Mr. Peju', 'Lindqvist, Mr. Eino William',\n",
       "       'Hickman, Mr. Lewis', 'Butler, Mr. Reginald Fenton',\n",
       "       'Rommetvedt, Mr. Knud Paust', 'Cook, Mr. Jacob',\n",
       "       'Taylor, Mrs. Elmer Zebley (Juliet Cummins Wright)',\n",
       "       'Brown, Mrs. Thomas William Solomon (Elizabeth Catherine Ford)',\n",
       "       'Davidson, Mr. Thornton', 'Mitchell, Mr. Henry Michael',\n",
       "       'Wilhelms, Mr. Charles', 'Watson, Mr. Ennis Hastings',\n",
       "       'Edvardsson, Mr. Gustaf Hjalmar', 'Sawyer, Mr. Frederick Charles',\n",
       "       'Turja, Miss. Anna Sofia',\n",
       "       'Goodwin, Mrs. Frederick (Augusta Tyler)',\n",
       "       'Cardeza, Mr. Thomas Drake Martinez', 'Peters, Miss. Katie',\n",
       "       'Hassab, Mr. Hammad', 'Olsvigen, Mr. Thor Anderson',\n",
       "       'Goodwin, Mr. Charles Edward', 'Brown, Mr. Thomas William Solomon',\n",
       "       'Laroche, Mr. Joseph Philippe Lemercier',\n",
       "       'Panula, Mr. Jaako Arnold', 'Dakic, Mr. Branko',\n",
       "       'Fischer, Mr. Eberhard Thelander',\n",
       "       'Madill, Miss. Georgette Alexandra', 'Dick, Mr. Albert Adrian',\n",
       "       'Karun, Miss. Manca', 'Lam, Mr. Ali', 'Saad, Mr. Khalil',\n",
       "       'Weir, Col. John', 'Chapman, Mr. Charles Henry', 'Kelly, Mr. James',\n",
       "       'Mullens, Miss. Katherine \"Katie\"', 'Thayer, Mr. John Borland',\n",
       "       'Humblen, Mr. Adolf Mathias Nicolai Olsen',\n",
       "       'Astor, Mrs. John Jacob (Madeleine Talmadge Force)',\n",
       "       'Silverthorne, Mr. Spencer Victor', 'Barbara, Miss. Saiide',\n",
       "       'Gallagher, Mr. Martin', 'Hansen, Mr. Henrik Juul',\n",
       "       'Morley, Mr. Henry Samuel (\"Mr Henry Marshall\")',\n",
       "       'Kelly, Mrs. Florence \"Fannie\"',\n",
       "       'Calderhead, Mr. Edward Pennington', 'Cleaver, Miss. Alice',\n",
       "       'Moubarek, Master. Halim Gonios (\"William George\")',\n",
       "       'Mayne, Mlle. Berthe Antonine (\"Mrs de Villiers\")',\n",
       "       'Klaber, Mr. Herman', 'Taylor, Mr. Elmer Zebley',\n",
       "       'Larsson, Mr. August Viktor', 'Greenberg, Mr. Samuel',\n",
       "       'Soholt, Mr. Peter Andreas Lauritz Andersen',\n",
       "       'Endres, Miss. Caroline Louise',\n",
       "       'Troutt, Miss. Edwina Celia \"Winnie\"', 'McEvoy, Mr. Michael',\n",
       "       'Johnson, Mr. Malkolm Joackim', 'Harper, Miss. Annie Jessie \"Nina\"',\n",
       "       'Jensen, Mr. Svend Lauritz', 'Gillespie, Mr. William Henry',\n",
       "       'Hodges, Mr. Henry Price', 'Chambers, Mr. Norman Campbell',\n",
       "       'Oreskovic, Mr. Luka',\n",
       "       'Renouf, Mrs. Peter Henry (Lillian Jefferys)',\n",
       "       'Mannion, Miss. Margareth', 'Bryhl, Mr. Kurt Arnold Gottfrid',\n",
       "       'Ilmakangas, Miss. Pieta Sofia', 'Allen, Miss. Elisabeth Walton',\n",
       "       'Hassan, Mr. Houssein G N', 'Knight, Mr. Robert J',\n",
       "       'Berriman, Mr. William John', 'Troupiansky, Mr. Moses Aaron',\n",
       "       'Williams, Mr. Leslie', 'Ford, Mrs. Edward (Margaret Ann Watson)',\n",
       "       'Lesurer, Mr. Gustave J', 'Ivanoff, Mr. Kanio',\n",
       "       'Nankoff, Mr. Minko', 'Hawksford, Mr. Walter James',\n",
       "       'Cavendish, Mr. Tyrell William',\n",
       "       'Ryerson, Miss. Susan Parker \"Suzette\"', 'McNamee, Mr. Neal',\n",
       "       'Stranden, Mr. Juho', 'Crosby, Capt. Edward Gifford',\n",
       "       'Abbott, Mr. Rossmore Edward', 'Sinkkonen, Miss. Anna',\n",
       "       'Marvin, Mr. Daniel Warner', 'Connaghton, Mr. Michael',\n",
       "       'Wells, Miss. Joan', 'Moor, Master. Meier',\n",
       "       'Vande Velde, Mr. Johannes Joseph', 'Jonkoff, Mr. Lalio',\n",
       "       'Herman, Mrs. Samuel (Jane Laver)', 'Hamalainen, Master. Viljo',\n",
       "       'Carlsson, Mr. August Sigfrid', 'Bailey, Mr. Percy Andrew',\n",
       "       'Theobald, Mr. Thomas Leonard',\n",
       "       'Rothes, the Countess. of (Lucy Noel Martha Dyer-Edwards)',\n",
       "       'Garfirth, Mr. John', 'Nirva, Mr. Iisakki Antino Aijo',\n",
       "       'Barah, Mr. Hanna Assi',\n",
       "       'Carter, Mrs. William Ernest (Lucile Polk)',\n",
       "       'Eklund, Mr. Hans Linus', 'Hogeboom, Mrs. John C (Anna Andrews)',\n",
       "       'Brewe, Dr. Arthur Jackson', 'Mangan, Miss. Mary',\n",
       "       'Moran, Mr. Daniel J', 'Gronnestad, Mr. Daniel Danielsen',\n",
       "       'Lievens, Mr. Rene Aime', 'Jensen, Mr. Niels Peder',\n",
       "       'Mack, Mrs. (Mary)', 'Elias, Mr. Dibo',\n",
       "       'Hocking, Mrs. Elizabeth (Eliza Needs)',\n",
       "       'Myhrman, Mr. Pehr Fabian Oliver Malkolm', 'Tobin, Mr. Roger',\n",
       "       'Emanuel, Miss. Virginia Ethel', 'Kilgannon, Mr. Thomas J',\n",
       "       'Robert, Mrs. Edward Scott (Elisabeth Walton McMillan)',\n",
       "       'Ayoub, Miss. Banoura', 'Dick, Mrs. Albert Adrian (Vera Gillespie)',\n",
       "       'Long, Mr. Milton Clyde', 'Johnston, Mr. Andrew G',\n",
       "       'Ali, Mr. William', 'Harmer, Mr. Abraham (David Lishin)',\n",
       "       'Sjoblom, Miss. Anna Sofia', 'Rice, Master. George Hugh',\n",
       "       'Dean, Master. Bertram Vere', 'Guggenheim, Mr. Benjamin',\n",
       "       'Keane, Mr. Andrew \"Andy\"', 'Gaskell, Mr. Alfred',\n",
       "       'Sage, Miss. Stella Anna', 'Hoyt, Mr. William Fisher',\n",
       "       'Dantcheff, Mr. Ristiu', 'Otter, Mr. Richard',\n",
       "       'Leader, Dr. Alice (Farnham)', 'Osman, Mrs. Mara',\n",
       "       'Ibrahim Shawah, Mr. Yousseff',\n",
       "       'Van Impe, Mrs. Jean Baptiste (Rosalie Paula Govaert)',\n",
       "       'Ponesell, Mr. Martin',\n",
       "       'Collyer, Mrs. Harvey (Charlotte Annie Tate)',\n",
       "       'Carter, Master. William Thornton II',\n",
       "       'Thomas, Master. Assad Alexander', 'Hedman, Mr. Oskar Arvid',\n",
       "       'Johansson, Mr. Karl Johan', 'Andrews, Mr. Thomas Jr',\n",
       "       'Pettersson, Miss. Ellen Natalia', 'Meyer, Mr. August',\n",
       "       'Chambers, Mrs. Norman Campbell (Bertha Griggs)',\n",
       "       'Alexander, Mr. William', 'Lester, Mr. James',\n",
       "       'Slemen, Mr. Richard James', 'Andersson, Miss. Ebba Iris Alfrida',\n",
       "       'Tomlin, Mr. Ernest Portage', 'Fry, Mr. Richard',\n",
       "       'Heininen, Miss. Wendla Maria', 'Mallet, Mr. Albert',\n",
       "       'Holm, Mr. John Fredrik Alexander', 'Skoog, Master. Karl Thorsten',\n",
       "       'Hays, Mrs. Charles Melville (Clara Jennings Gregg)',\n",
       "       'Lulic, Mr. Nikola', 'Reuchlin, Jonkheer. John George',\n",
       "       'Moor, Mrs. (Beila)', 'Panula, Master. Urho Abraham',\n",
       "       'Flynn, Mr. John', 'Lam, Mr. Len', 'Mallet, Master. Andre',\n",
       "       'McCormack, Mr. Thomas Joseph',\n",
       "       'Stone, Mrs. George Nelson (Martha Evelyn)',\n",
       "       'Yasbeck, Mrs. Antoni (Selini Alexander)',\n",
       "       'Richards, Master. George Sibley', 'Saad, Mr. Amin',\n",
       "       'Augustsson, Mr. Albert', 'Allum, Mr. Owen George',\n",
       "       'Compton, Miss. Sara Rebecca', 'Pasic, Mr. Jakob',\n",
       "       'Sirota, Mr. Maurice', 'Chip, Mr. Chang', 'Marechal, Mr. Pierre',\n",
       "       'Alhomaki, Mr. Ilmari Rudolf', 'Mudd, Mr. Thomas Charles',\n",
       "       'Serepeca, Miss. Augusta', 'Lemberopolous, Mr. Peter L',\n",
       "       'Culumovic, Mr. Jeso', 'Abbing, Mr. Anthony',\n",
       "       'Sage, Mr. Douglas Bullen', 'Markoff, Mr. Marin',\n",
       "       'Harper, Rev. John', 'Goldenberg, Mrs. Samuel L (Edwiga Grabowska)',\n",
       "       'Andersson, Master. Sigvard Harald Elias', 'Svensson, Mr. Johan',\n",
       "       'Boulos, Miss. Nourelain', 'Lines, Miss. Mary Conover',\n",
       "       'Carter, Mrs. Ernest Courtenay (Lilian Hughes)',\n",
       "       'Aks, Mrs. Sam (Leah Rosen)',\n",
       "       'Wick, Mrs. George Dennick (Mary Hitchcock)',\n",
       "       'Daly, Mr. Peter Denis ', 'Baclini, Mrs. Solomon (Latifa Qurban)',\n",
       "       'Razi, Mr. Raihed', 'Hansen, Mr. Claus Peter',\n",
       "       'Giles, Mr. Frederick Edward',\n",
       "       'Swift, Mrs. Frederick Joel (Margaret Welles Barron)',\n",
       "       'Sage, Miss. Dorothy Edith \"Dolly\"', 'Gill, Mr. John William',\n",
       "       'Bystrom, Mrs. (Karolina)', 'Duran y More, Miss. Asuncion',\n",
       "       'Roebling, Mr. Washington Augustus II',\n",
       "       'van Melkebeke, Mr. Philemon', 'Johnson, Master. Harold Theodor',\n",
       "       'Balkic, Mr. Cerin',\n",
       "       'Beckwith, Mrs. Richard Leonard (Sallie Monypeny)',\n",
       "       'Carlsson, Mr. Frans Olof', 'Vander Cruyssen, Mr. Victor',\n",
       "       'Abelson, Mrs. Samuel (Hannah Wizosky)',\n",
       "       'Najib, Miss. Adele Kiamie \"Jane\"', 'Gustafsson, Mr. Alfred Ossian',\n",
       "       'Petroff, Mr. Nedelio', 'Laleff, Mr. Kristo',\n",
       "       'Potter, Mrs. Thomas Jr (Lily Alexenia Wilson)',\n",
       "       'Shelley, Mrs. William (Imanita Parrish Hall)',\n",
       "       'Markun, Mr. Johann', 'Dahlberg, Miss. Gerda Ulrika',\n",
       "       'Banfield, Mr. Frederick James', 'Sutehall, Mr. Henry Jr',\n",
       "       'Rice, Mrs. William (Margaret Norton)', 'Montvila, Rev. Juozas',\n",
       "       'Graham, Miss. Margaret Edith',\n",
       "       'Johnston, Miss. Catherine Helen \"Carrie\"', 'Behr, Mr. Karl Howell',\n",
       "       'Dooley, Mr. Patrick'], dtype=object)"
      ]
     },
     "execution_count": 136,
     "metadata": {},
     "output_type": "execute_result"
    }
   ],
   "source": [
    "imported_data['Name'].unique()"
   ]
  },
  {
   "cell_type": "code",
   "execution_count": 140,
   "metadata": {},
   "outputs": [
    {
     "data": {
      "text/plain": [
       "array([   7.25  ,   71.2833,    7.925 ,   53.1   ,    8.05  ,    8.4583,\n",
       "         51.8625,   21.075 ,   11.1333,   30.0708,   16.7   ,   26.55  ,\n",
       "         31.275 ,    7.8542,   16.    ,   29.125 ,   13.    ,   18.    ,\n",
       "          7.225 ,   26.    ,    8.0292,   35.5   ,   31.3875,  263.    ,\n",
       "          7.8792,    7.8958,   27.7208,  146.5208,    7.75  ,   10.5   ,\n",
       "         82.1708,   52.    ,    7.2292,   11.2417,    9.475 ,   21.    ,\n",
       "         41.5792,   15.5   ,   21.6792,   17.8   ,   39.6875,    7.8   ,\n",
       "         76.7292,   61.9792,   27.75  ,   46.9   ,   80.    ,   83.475 ,\n",
       "         27.9   ,   15.2458,    8.1583,    8.6625,   73.5   ,   14.4542,\n",
       "         56.4958,    7.65  ,   29.    ,   12.475 ,    9.    ,    9.5   ,\n",
       "          7.7875,   47.1   ,   15.85  ,   34.375 ,   61.175 ,   20.575 ,\n",
       "         34.6542,   63.3583,   23.    ,   77.2875,    8.6542,    7.775 ,\n",
       "         24.15  ,    9.825 ,   14.4583,  247.5208,    7.1417,   22.3583,\n",
       "          6.975 ,    7.05  ,   14.5   ,   15.0458,   26.2833,    9.2167,\n",
       "         79.2   ,    6.75  ,   11.5   ,   36.75  ,    7.7958,   12.525 ,\n",
       "         66.6   ,    7.3125,   61.3792,    7.7333,   69.55  ,   16.1   ,\n",
       "         15.75  ,   20.525 ,   55.    ,   25.925 ,   33.5   ,   30.6958,\n",
       "         25.4667,   28.7125,    0.    ,   15.05  ,   39.    ,   22.025 ,\n",
       "         50.    ,    8.4042,    6.4958,   10.4625,   18.7875,   31.    ,\n",
       "        113.275 ,   27.    ,   76.2917,   90.    ,    9.35  ,   13.5   ,\n",
       "          7.55  ,   26.25  ,   12.275 ,    7.125 ,   52.5542,   20.2125,\n",
       "         86.5   ,  512.3292,   79.65  ,  153.4625,  135.6333,   19.5   ,\n",
       "         29.7   ,   77.9583,   20.25  ,   78.85  ,   91.0792,   12.875 ,\n",
       "          8.85  ,  151.55  ,   30.5   ,   23.25  ,   12.35  ,  110.8833,\n",
       "        108.9   ,   24.    ,   56.9292,   83.1583,  262.375 ,   14.    ,\n",
       "        164.8667,  134.5   ,    6.2375,   57.9792,   28.5   ,  133.65  ,\n",
       "         15.9   ,    9.225 ,   35.    ,   75.25  ,   69.3   ,   55.4417,\n",
       "        211.5   ,    4.0125,  227.525 ,   15.7417,    7.7292,   12.    ,\n",
       "        120.    ,   12.65  ,   18.75  ,    6.8583,   32.5   ,    7.875 ,\n",
       "         14.4   ,   55.9   ,    8.1125,   81.8583,   19.2583,   19.9667,\n",
       "         89.1042,   38.5   ,    7.725 ,   13.7917,    9.8375,    7.0458,\n",
       "          7.5208,   12.2875,    9.5875,   49.5042,   78.2667,   15.1   ,\n",
       "          7.6292,   22.525 ,   26.2875,   59.4   ,    7.4958,   34.0208,\n",
       "         93.5   ,  221.7792,  106.425 ,   49.5   ,   71.    ,   13.8625,\n",
       "          7.8292,   39.6   ,   17.4   ,   51.4792,   26.3875,   30.    ,\n",
       "         40.125 ,    8.7125,   15.    ,   33.    ,   42.4   ,   15.55  ,\n",
       "         65.    ,   32.3208,    7.0542,    8.4333,   25.5875,    9.8417,\n",
       "          8.1375,   10.1708,  211.3375,   57.    ,   13.4167,    7.7417,\n",
       "          9.4833,    7.7375,    8.3625,   23.45  ,   25.9292,    8.6833,\n",
       "          8.5167,    7.8875,   37.0042,    6.45  ,    6.95  ,    8.3   ,\n",
       "          6.4375,   39.4   ,   14.1083,   13.8583,   50.4958,    5.    ,\n",
       "          9.8458,   10.5167])"
      ]
     },
     "execution_count": 140,
     "metadata": {},
     "output_type": "execute_result"
    }
   ],
   "source": [
    "imported_data['Fare'].unique()"
   ]
  },
  {
   "cell_type": "code",
   "execution_count": 137,
   "metadata": {},
   "outputs": [
    {
     "data": {
      "text/plain": [
       "array([1, 0, 3, 4, 2, 5, 8])"
      ]
     },
     "execution_count": 137,
     "metadata": {},
     "output_type": "execute_result"
    }
   ],
   "source": [
    "imported_data['SibSp'].unique()"
   ]
  },
  {
   "cell_type": "code",
   "execution_count": 138,
   "metadata": {},
   "outputs": [
    {
     "data": {
      "text/plain": [
       "array([0, 1, 2, 5, 3, 4, 6])"
      ]
     },
     "execution_count": 138,
     "metadata": {},
     "output_type": "execute_result"
    }
   ],
   "source": [
    "imported_data['Parch'].unique()"
   ]
  },
  {
   "cell_type": "code",
   "execution_count": 148,
   "metadata": {},
   "outputs": [
    {
     "data": {
      "text/plain": [
       "array(['A/5 21171', 'PC 17599', 'STON/O2. 3101282', '113803', '373450',\n",
       "       '330877', '17463', '349909', '347742', '237736', 'PP 9549',\n",
       "       '113783', 'A/5. 2151', '347082', '350406', '248706', '382652',\n",
       "       '244373', '345763', '2649', '239865', '248698', '330923', '113788',\n",
       "       '347077', '2631', '19950', '330959', '349216', 'PC 17601',\n",
       "       'PC 17569', '335677', 'C.A. 24579', 'PC 17604', '113789', '2677',\n",
       "       'A./5. 2152', '345764', '2651', '7546', '11668', '349253',\n",
       "       'SC/Paris 2123', '330958', 'S.C./A.4. 23567', '370371', '14311',\n",
       "       '2662', '349237', '3101295', 'A/4. 39886', 'PC 17572', '2926',\n",
       "       '113509', '19947', 'C.A. 31026', '2697', 'C.A. 34651', 'CA 2144',\n",
       "       '2669', '113572', '36973', '347088', 'PC 17605', '2661',\n",
       "       'C.A. 29395', 'S.P. 3464', '3101281', '315151', 'C.A. 33111',\n",
       "       'S.O.C. 14879', '2680', '1601', '348123', '349208', '374746',\n",
       "       '248738', '364516', '345767', '345779', '330932', '113059',\n",
       "       'SO/C 14885', '3101278', 'W./C. 6608', 'SOTON/OQ 392086', '343275',\n",
       "       '343276', '347466', 'W.E.P. 5734', 'C.A. 2315', '364500', '374910',\n",
       "       'PC 17754', 'PC 17759', '231919', '244367', '349245', '349215',\n",
       "       '35281', '7540', '3101276', '349207', '343120', '312991', '349249',\n",
       "       '371110', '110465', '2665', '324669', '4136', '2627',\n",
       "       'STON/O 2. 3101294', '370369', 'PC 17558', 'A4. 54510', '27267',\n",
       "       '370372', 'C 17369', '2668', '347061', '349241',\n",
       "       'SOTON/O.Q. 3101307', 'A/5. 3337', '228414', 'C.A. 29178',\n",
       "       'SC/PARIS 2133', '11752', '7534', 'PC 17593', '2678', '347081',\n",
       "       'STON/O2. 3101279', '365222', '231945', 'C.A. 33112', '350043',\n",
       "       '230080', '244310', 'S.O.P. 1166', '113776', 'A.5. 11206',\n",
       "       'A/5. 851', 'Fa 265302', 'PC 17597', '35851', 'SOTON/OQ 392090',\n",
       "       '315037', 'CA. 2343', '371362', 'C.A. 33595', '347068', '315093',\n",
       "       '363291', '113505', 'PC 17318', '111240', 'STON/O 2. 3101280',\n",
       "       '17764', '350404', '4133', 'PC 17595', '250653', 'LINE',\n",
       "       'SC/PARIS 2131', '230136', '315153', '113767', '370365', '111428',\n",
       "       '364849', '349247', '234604', '28424', '350046', 'PC 17610',\n",
       "       '368703', '4579', '370370', '248747', '345770', '3101264', '2628',\n",
       "       'A/5 3540', '347054', '2699', '367231', '112277',\n",
       "       'SOTON/O.Q. 3101311', 'F.C.C. 13528', 'A/5 21174', '250646',\n",
       "       '367229', '35273', 'STON/O2. 3101283', '243847', '11813',\n",
       "       'W/C 14208', 'SOTON/OQ 392089', '220367', '21440', '349234',\n",
       "       '19943', 'PP 4348', 'SW/PP 751', 'A/5 21173', '236171', '347067',\n",
       "       '237442', 'C.A. 29566', 'W./C. 6609', '26707', 'C.A. 31921',\n",
       "       '28665', 'SCO/W 1585', '367230', 'W./C. 14263', 'STON/O 2. 3101275',\n",
       "       '2694', '19928', '347071', '250649', '11751', '244252', '362316',\n",
       "       '113514', 'A/5. 3336', '370129', '2650', 'PC 17585', '110152',\n",
       "       'PC 17755', '230433', '384461', '110413', '112059', '382649',\n",
       "       'C.A. 17248', '347083', 'PC 17582', 'PC 17760', '113798', '250644',\n",
       "       'PC 17596', '370375', '13502', '347073', '239853', 'C.A. 2673',\n",
       "       '336439', '347464', '345778', 'A/5. 10482', '113056', '349239',\n",
       "       '345774', '349206', '237798', '370373', '19877', '11967',\n",
       "       'SC/Paris 2163', '349236', '349233', 'PC 17612', '2693', '113781',\n",
       "       '19988', '9234', '367226', '226593', 'A/5 2466', '17421',\n",
       "       'PC 17758', 'P/PP 3381', 'PC 17485', '11767', 'PC 17608', '250651',\n",
       "       '349243', 'F.C.C. 13529', '347470', '29011', '36928', '16966',\n",
       "       'A/5 21172', '349219', '234818', '345364', '28551', '111361',\n",
       "       '113043', 'PC 17611', '349225', '7598', '113784', '248740',\n",
       "       '244361', '229236', '248733', '31418', '386525', 'C.A. 37671',\n",
       "       '315088', '7267', '113510', '2695', '2647', '345783', '237671',\n",
       "       '330931', '330980', 'SC/PARIS 2167', '2691', 'SOTON/O.Q. 3101310',\n",
       "       'C 7076', '110813', '2626', '14313', 'PC 17477', '11765', '3101267',\n",
       "       '323951', 'C 7077', '113503', '2648', '347069', 'PC 17757', '2653',\n",
       "       'STON/O 2. 3101293', '349227', '27849', '367655', 'SC 1748',\n",
       "       '113760', '350034', '3101277', '350052', '350407', '28403',\n",
       "       '244278', '240929', 'STON/O 2. 3101289', '341826', '4137', '315096',\n",
       "       '28664', '347064', '29106', '312992', '349222', '394140',\n",
       "       'STON/O 2. 3101269', '343095', '28220', '250652', '28228', '345773',\n",
       "       '349254', 'A/5. 13032', '315082', '347080', 'A/4. 34244', '2003',\n",
       "       '250655', '364851', 'SOTON/O.Q. 392078', '110564', '376564',\n",
       "       'SC/AH 3085', 'STON/O 2. 3101274', '13507', 'C.A. 18723', '345769',\n",
       "       '347076', '230434', '65306', '33638', '113794', '2666', '113786',\n",
       "       '65303', '113051', '17453', 'A/5 2817', '349240', '13509', '17464',\n",
       "       'F.C.C. 13531', '371060', '19952', '364506', '111320', '234360',\n",
       "       'A/S 2816', 'SOTON/O.Q. 3101306', '113792', '36209', '323592',\n",
       "       '315089', 'SC/AH Basle 541', '7553', '31027', '3460', '350060',\n",
       "       '3101298', '239854', 'A/5 3594', '4134', '11771', 'A.5. 18509',\n",
       "       '65304', 'SOTON/OQ 3101317', '113787', 'PC 17609', 'A/4 45380',\n",
       "       '36947', 'C.A. 6212', '350035', '315086', '364846', '330909',\n",
       "       '4135', '26360', '111427', 'C 4001', '382651', 'SOTON/OQ 3101316',\n",
       "       'PC 17473', 'PC 17603', '349209', '36967', 'C.A. 34260', '226875',\n",
       "       '349242', '12749', '349252', '2624', '2700', '367232',\n",
       "       'W./C. 14258', 'PC 17483', '3101296', '29104', '2641', '2690',\n",
       "       '315084', '113050', 'PC 17761', '364498', '13568', 'WE/P 5735',\n",
       "       '2908', '693', 'SC/PARIS 2146', '244358', '330979', '2620',\n",
       "       '347085', '113807', '11755', '345572', '372622', '349251', '218629',\n",
       "       'SOTON/OQ 392082', 'SOTON/O.Q. 392087', 'A/4 48871', '349205',\n",
       "       '2686', '350417', 'S.W./PP 752', '11769', 'PC 17474', '14312',\n",
       "       'A/4. 20589', '358585', '243880', '2689', 'STON/O 2. 3101286',\n",
       "       '237789', '13049', '3411', '237565', '13567', '14973', 'A./5. 3235',\n",
       "       'STON/O 2. 3101273', 'A/5 3902', '364848', 'SC/AH 29037', '248727',\n",
       "       '2664', '349214', '113796', '364511', '111426', '349910', '349246',\n",
       "       '113804', 'SOTON/O.Q. 3101305', '370377', '364512', '220845',\n",
       "       '31028', '2659', '11753', '350029', '54636', '36963', '219533',\n",
       "       '349224', '334912', '27042', '347743', '13214', '112052', '237668',\n",
       "       'STON/O 2. 3101292', '350050', '349231', '13213', 'S.O./P.P. 751',\n",
       "       'CA. 2314', '349221', '8475', '330919', '365226', '349223', '29751',\n",
       "       '2623', '5727', '349210', 'STON/O 2. 3101285', '234686', '312993',\n",
       "       'A/5 3536', '19996', '29750', 'F.C. 12750', 'C.A. 24580', '244270',\n",
       "       '239856', '349912', '342826', '4138', '330935', '6563', '349228',\n",
       "       '350036', '24160', '17474', '349256', '2672', '113800', '248731',\n",
       "       '363592', '35852', '348121', 'PC 17475', '36864', '350025',\n",
       "       '223596', 'PC 17476', 'PC 17482', '113028', '7545', '250647',\n",
       "       '348124', '34218', '36568', '347062', '350048', '12233', '250643',\n",
       "       '113806', '315094', '36866', '236853', 'STON/O2. 3101271', '239855',\n",
       "       '28425', '233639', '349201', '349218', '16988', '376566',\n",
       "       'STON/O 2. 3101288', '250648', '113773', '335097', '29103',\n",
       "       '392096', '345780', '349204', '350042', '29108', '363294',\n",
       "       'SOTON/O2 3101272', '2663', '347074', '112379', '364850', '8471',\n",
       "       '345781', '350047', 'S.O./P.P. 3', '2674', '29105', '347078',\n",
       "       '383121', '36865', '2687', '113501', 'W./C. 6607',\n",
       "       'SOTON/O.Q. 3101312', '374887', '3101265', '12460', 'PC 17600',\n",
       "       '349203', '28213', '17465', '349244', '2685', '2625', '347089',\n",
       "       '347063', '112050', '347087', '248723', '3474', '28206', '364499',\n",
       "       '112058', 'STON/O2. 3101290', 'S.C./PARIS 2079', 'C 7075', '315098',\n",
       "       '19972', '368323', '367228', '2671', '347468', '2223', 'PC 17756',\n",
       "       '315097', '392092', '11774', 'SOTON/O2 3101287', '2683', '315090',\n",
       "       'C.A. 5547', '349213', '347060', 'PC 17592', '392091', '113055',\n",
       "       '2629', '350026', '28134', '17466', '233866', '236852',\n",
       "       'SC/PARIS 2149', 'PC 17590', '345777', '349248', '695', '345765',\n",
       "       '2667', '349212', '349217', '349257', '7552', 'C.A./SOTON 34068',\n",
       "       'SOTON/OQ 392076', '211536', '112053', '111369', '370376'], dtype=object)"
      ]
     },
     "execution_count": 148,
     "metadata": {},
     "output_type": "execute_result"
    }
   ],
   "source": [
    "imported_data['Ticket'].unique()"
   ]
  },
  {
   "cell_type": "code",
   "execution_count": 141,
   "metadata": {},
   "outputs": [
    {
     "data": {
      "text/plain": [
       "array([nan, 'C85', 'C123', 'E46', 'G6', 'C103', 'D56', 'A6', 'C23 C25 C27',\n",
       "       'B78', 'D33', 'B30', 'C52', 'B28', 'C83', 'F33', 'F G73', 'E31',\n",
       "       'A5', 'D10 D12', 'D26', 'C110', 'B58 B60', 'E101', 'F E69', 'D47',\n",
       "       'B86', 'F2', 'C2', 'E33', 'B19', 'A7', 'C49', 'F4', 'A32', 'B4',\n",
       "       'B80', 'A31', 'D36', 'D15', 'C93', 'C78', 'D35', 'C87', 'B77',\n",
       "       'E67', 'B94', 'C125', 'C99', 'C118', 'D7', 'A19', 'B49', 'D',\n",
       "       'C22 C26', 'C106', 'C65', 'E36', 'C54', 'B57 B59 B63 B66', 'C7',\n",
       "       'E34', 'C32', 'B18', 'C124', 'C91', 'E40', 'T', 'C128', 'D37',\n",
       "       'B35', 'E50', 'C82', 'B96 B98', 'E10', 'E44', 'A34', 'C104', 'C111',\n",
       "       'C92', 'E38', 'D21', 'E12', 'E63', 'A14', 'B37', 'C30', 'D20',\n",
       "       'B79', 'E25', 'D46', 'B73', 'C95', 'B38', 'B39', 'B22', 'C86',\n",
       "       'C70', 'A16', 'C101', 'C68', 'A10', 'E68', 'B41', 'A20', 'D19',\n",
       "       'D50', 'D9', 'A23', 'B50', 'A26', 'D48', 'E58', 'C126', 'B71',\n",
       "       'B51 B53 B55', 'D49', 'B5', 'B20', 'F G63', 'C62 C64', 'E24', 'C90',\n",
       "       'C45', 'E8', 'B101', 'D45', 'C46', 'D30', 'E121', 'D11', 'E77',\n",
       "       'F38', 'B3', 'D6', 'B82 B84', 'D17', 'A36', 'B102', 'B69', 'E49',\n",
       "       'C47', 'D28', 'E17', 'A24', 'C50', 'B42', 'C148'], dtype=object)"
      ]
     },
     "execution_count": 141,
     "metadata": {},
     "output_type": "execute_result"
    }
   ],
   "source": [
    "imported_data['Cabin'].unique()"
   ]
  },
  {
   "cell_type": "code",
   "execution_count": 142,
   "metadata": {},
   "outputs": [
    {
     "data": {
      "text/plain": [
       "array(['S', 'C', 'Q', nan], dtype=object)"
      ]
     },
     "execution_count": 142,
     "metadata": {},
     "output_type": "execute_result"
    }
   ],
   "source": [
    "imported_data['Embarked'].unique()"
   ]
  },
  {
   "cell_type": "markdown",
   "metadata": {},
   "source": [
    "As a result of the following analysis, it appears that there are missing values in the following data variables:\n",
    "* Age\n",
    "* Cabin\n",
    "* Embarked\n",
    "\n",
    "Of these 3, the only one that I care to correct is the Age related issue. For the remainder of this analysis I will remove any data points where the age is missing, as there is no way to appropriately substitute another value."
   ]
  },
  {
   "cell_type": "code",
   "execution_count": 172,
   "metadata": {},
   "outputs": [],
   "source": [
    "removed_invalid_data = imported_data[imported_data.Age.notnull()]"
   ]
  },
  {
   "cell_type": "markdown",
   "metadata": {},
   "source": [
    "Let's start off with some basic analysis, like how many passengers there were and how their ages ranged.\n",
    "\n",
    "# Passengers by Age"
   ]
  },
  {
   "cell_type": "code",
   "execution_count": 173,
   "metadata": {},
   "outputs": [
    {
     "data": {
      "text/plain": [
       "count    714.000000\n",
       "mean      29.699118\n",
       "std       14.526497\n",
       "min        0.420000\n",
       "25%       20.125000\n",
       "50%       28.000000\n",
       "75%       38.000000\n",
       "max       80.000000\n",
       "Name: Age, dtype: float64"
      ]
     },
     "execution_count": 173,
     "metadata": {},
     "output_type": "execute_result"
    }
   ],
   "source": [
    "removed_invalid_data['Age'].describe()"
   ]
  },
  {
   "cell_type": "code",
   "execution_count": 174,
   "metadata": {
    "scrolled": true
   },
   "outputs": [
    {
     "data": {
      "text/plain": [
       "<matplotlib.axes._subplots.AxesSubplot at 0x11f1825f8>"
      ]
     },
     "execution_count": 174,
     "metadata": {},
     "output_type": "execute_result"
    },
    {
     "data": {
      "image/png": "[encoded data removed]",
      "text/plain": [
       "<matplotlib.figure.Figure at 0x11f10cba8>"
      ]
     },
     "metadata": {},
     "output_type": "display_data"
    }
   ],
   "source": [
    "removed_invalid_data['Age'].hist()"
   ]
  },
  {
   "cell_type": "markdown",
   "metadata": {},
   "source": [
    "## Result 1\n",
    "\n",
    "This is surprising, I didn't expect the average passenger age to be as low as it is shown to be here."
   ]
  },
  {
   "cell_type": "markdown",
   "metadata": {},
   "source": [
    "I wasn't aware that the average age of passengers was so low on the titanic (~29 years). I wonder how this distribution went amongst the various passenger classes."
   ]
  },
  {
   "cell_type": "markdown",
   "metadata": {},
   "source": [
    "Perhaps there was some disparity between the various classes of passengers on the Titanic. Let's look at some statistics by passenger class.\n",
    "\n",
    "# Passengers by Class"
   ]
  },
  {
   "cell_type": "code",
   "execution_count": 175,
   "metadata": {
    "scrolled": true
   },
   "outputs": [
    {
     "data": {
      "text/plain": [
       "Pclass\n",
       "1    186\n",
       "2    173\n",
       "3    355\n",
       "Name: PassengerId, dtype: int64"
      ]
     },
     "execution_count": 175,
     "metadata": {},
     "output_type": "execute_result"
    }
   ],
   "source": [
    "removed_invalid_data.groupby('Pclass')['PassengerId'].count()"
   ]
  },
  {
   "cell_type": "code",
   "execution_count": 176,
   "metadata": {},
   "outputs": [
    {
     "data": {
      "text/plain": [
       "Pclass\n",
       "1    38.233441\n",
       "2    29.877630\n",
       "3    25.140620\n",
       "Name: Age, dtype: float64"
      ]
     },
     "execution_count": 176,
     "metadata": {},
     "output_type": "execute_result"
    }
   ],
   "source": [
    "removed_invalid_data.groupby('Pclass').mean()['Age']"
   ]
  },
  {
   "cell_type": "markdown",
   "metadata": {},
   "source": [
    "I wonder if the different classes had an effect on survival rate of the passengers. I would asssume that older passengers did not fare as well as younger people if they ended up in the ocean."
   ]
  },
  {
   "cell_type": "code",
   "execution_count": 177,
   "metadata": {
    "collapsed": true
   },
   "outputs": [],
   "source": [
    "survivors = removed_invalid_data[removed_invalid_data.Survived == 1]\n",
    "non_survivors = removed_invalid_data[removed_invalid_data.Survived == 0]"
   ]
  },
  {
   "cell_type": "code",
   "execution_count": 178,
   "metadata": {},
   "outputs": [
    {
     "data": {
      "text/plain": [
       "<matplotlib.axes._subplots.AxesSubplot at 0x11f345a20>"
      ]
     },
     "execution_count": 178,
     "metadata": {},
     "output_type": "execute_result"
    },
    {
     "data": {
      "image/png": "[encoded data removed]",
      "text/plain": [
       "<matplotlib.figure.Figure at 0x11f360f60>"
      ]
     },
     "metadata": {},
     "output_type": "display_data"
    }
   ],
   "source": [
    "survivors['Age'].hist()"
   ]
  },
  {
   "cell_type": "code",
   "execution_count": 179,
   "metadata": {},
   "outputs": [
    {
     "data": {
      "text/plain": [
       "<matplotlib.axes._subplots.AxesSubplot at 0x11f413940>"
      ]
     },
     "execution_count": 179,
     "metadata": {},
     "output_type": "execute_result"
    },
    {
     "data": {
      "image/png": "[encoded data removed]",
      "text/plain": [
       "<matplotlib.figure.Figure at 0x11f3eaf98>"
      ]
     },
     "metadata": {},
     "output_type": "display_data"
    }
   ],
   "source": [
    "non_survivors['Age'].hist()"
   ]
  },
  {
   "cell_type": "markdown",
   "metadata": {},
   "source": [
    "The graphs look fairly similar, although it can be seen in the first histogram that there are more survivors in the younger end of the scale, and non-survivors tended to be slightly older. Tentatively this provides some insight into the reason people may have died - in that older passengers struggled to evacuate.\n",
    "\n",
    "It is interesting that younger passengers were more likely to survive - perhaps this is because their families more readily loaded them into the boats?\n",
    "\n",
    "## Survivor vs. Non Survivor statistics"
   ]
  },
  {
   "cell_type": "code",
   "execution_count": 180,
   "metadata": {},
   "outputs": [
    {
     "data": {
      "text/html": [
       "<div>\n",
       "<style>\n",
       "    .dataframe thead tr:only-child th {\n",
       "        text-align: right;\n",
       "    }\n",
       "\n",
       "    .dataframe thead th {\n",
       "        text-align: left;\n",
       "    }\n",
       "\n",
       "    .dataframe tbody tr th {\n",
       "        vertical-align: top;\n",
       "    }\n",
       "</style>\n",
       "<table border=\"1\" class=\"dataframe\">\n",
       "  <thead>\n",
       "    <tr style=\"text-align: right;\">\n",
       "      <th></th>\n",
       "      <th>PassengerId</th>\n",
       "      <th>Survived</th>\n",
       "      <th>Pclass</th>\n",
       "      <th>Age</th>\n",
       "      <th>SibSp</th>\n",
       "      <th>Parch</th>\n",
       "      <th>Fare</th>\n",
       "    </tr>\n",
       "  </thead>\n",
       "  <tbody>\n",
       "    <tr>\n",
       "      <th>count</th>\n",
       "      <td>290.000000</td>\n",
       "      <td>290.0</td>\n",
       "      <td>290.000000</td>\n",
       "      <td>290.000000</td>\n",
       "      <td>290.000000</td>\n",
       "      <td>290.000000</td>\n",
       "      <td>290.000000</td>\n",
       "    </tr>\n",
       "    <tr>\n",
       "      <th>mean</th>\n",
       "      <td>457.768966</td>\n",
       "      <td>1.0</td>\n",
       "      <td>1.872414</td>\n",
       "      <td>28.343690</td>\n",
       "      <td>0.493103</td>\n",
       "      <td>0.527586</td>\n",
       "      <td>51.843205</td>\n",
       "    </tr>\n",
       "    <tr>\n",
       "      <th>std</th>\n",
       "      <td>250.845515</td>\n",
       "      <td>0.0</td>\n",
       "      <td>0.836617</td>\n",
       "      <td>14.950952</td>\n",
       "      <td>0.731132</td>\n",
       "      <td>0.807147</td>\n",
       "      <td>70.458776</td>\n",
       "    </tr>\n",
       "    <tr>\n",
       "      <th>min</th>\n",
       "      <td>2.000000</td>\n",
       "      <td>1.0</td>\n",
       "      <td>1.000000</td>\n",
       "      <td>0.420000</td>\n",
       "      <td>0.000000</td>\n",
       "      <td>0.000000</td>\n",
       "      <td>0.000000</td>\n",
       "    </tr>\n",
       "    <tr>\n",
       "      <th>25%</th>\n",
       "      <td>260.500000</td>\n",
       "      <td>1.0</td>\n",
       "      <td>1.000000</td>\n",
       "      <td>19.000000</td>\n",
       "      <td>0.000000</td>\n",
       "      <td>0.000000</td>\n",
       "      <td>13.000000</td>\n",
       "    </tr>\n",
       "    <tr>\n",
       "      <th>50%</th>\n",
       "      <td>452.000000</td>\n",
       "      <td>1.0</td>\n",
       "      <td>2.000000</td>\n",
       "      <td>28.000000</td>\n",
       "      <td>0.000000</td>\n",
       "      <td>0.000000</td>\n",
       "      <td>26.250000</td>\n",
       "    </tr>\n",
       "    <tr>\n",
       "      <th>75%</th>\n",
       "      <td>669.500000</td>\n",
       "      <td>1.0</td>\n",
       "      <td>3.000000</td>\n",
       "      <td>36.000000</td>\n",
       "      <td>1.000000</td>\n",
       "      <td>1.000000</td>\n",
       "      <td>66.200000</td>\n",
       "    </tr>\n",
       "    <tr>\n",
       "      <th>max</th>\n",
       "      <td>890.000000</td>\n",
       "      <td>1.0</td>\n",
       "      <td>3.000000</td>\n",
       "      <td>80.000000</td>\n",
       "      <td>4.000000</td>\n",
       "      <td>5.000000</td>\n",
       "      <td>512.329200</td>\n",
       "    </tr>\n",
       "  </tbody>\n",
       "</table>\n",
       "</div>"
      ],
      "text/plain": [
       "       PassengerId  Survived      Pclass         Age       SibSp       Parch  \\\n",
       "count   290.000000     290.0  290.000000  290.000000  290.000000  290.000000   \n",
       "mean    457.768966       1.0    1.872414   28.343690    0.493103    0.527586   \n",
       "std     250.845515       0.0    0.836617   14.950952    0.731132    0.807147   \n",
       "min       2.000000       1.0    1.000000    0.420000    0.000000    0.000000   \n",
       "25%     260.500000       1.0    1.000000   19.000000    0.000000    0.000000   \n",
       "50%     452.000000       1.0    2.000000   28.000000    0.000000    0.000000   \n",
       "75%     669.500000       1.0    3.000000   36.000000    1.000000    1.000000   \n",
       "max     890.000000       1.0    3.000000   80.000000    4.000000    5.000000   \n",
       "\n",
       "             Fare  \n",
       "count  290.000000  \n",
       "mean    51.843205  \n",
       "std     70.458776  \n",
       "min      0.000000  \n",
       "25%     13.000000  \n",
       "50%     26.250000  \n",
       "75%     66.200000  \n",
       "max    512.329200  "
      ]
     },
     "execution_count": 180,
     "metadata": {},
     "output_type": "execute_result"
    }
   ],
   "source": [
    "survivors.describe()"
   ]
  },
  {
   "cell_type": "code",
   "execution_count": 181,
   "metadata": {},
   "outputs": [
    {
     "data": {
      "text/html": [
       "<div>\n",
       "<style>\n",
       "    .dataframe thead tr:only-child th {\n",
       "        text-align: right;\n",
       "    }\n",
       "\n",
       "    .dataframe thead th {\n",
       "        text-align: left;\n",
       "    }\n",
       "\n",
       "    .dataframe tbody tr th {\n",
       "        vertical-align: top;\n",
       "    }\n",
       "</style>\n",
       "<table border=\"1\" class=\"dataframe\">\n",
       "  <thead>\n",
       "    <tr style=\"text-align: right;\">\n",
       "      <th></th>\n",
       "      <th>PassengerId</th>\n",
       "      <th>Survived</th>\n",
       "      <th>Pclass</th>\n",
       "      <th>Age</th>\n",
       "      <th>SibSp</th>\n",
       "      <th>Parch</th>\n",
       "      <th>Fare</th>\n",
       "    </tr>\n",
       "  </thead>\n",
       "  <tbody>\n",
       "    <tr>\n",
       "      <th>count</th>\n",
       "      <td>424.000000</td>\n",
       "      <td>424.0</td>\n",
       "      <td>424.000000</td>\n",
       "      <td>424.000000</td>\n",
       "      <td>424.000000</td>\n",
       "      <td>424.000000</td>\n",
       "      <td>424.000000</td>\n",
       "    </tr>\n",
       "    <tr>\n",
       "      <th>mean</th>\n",
       "      <td>442.299528</td>\n",
       "      <td>0.0</td>\n",
       "      <td>2.485849</td>\n",
       "      <td>30.626179</td>\n",
       "      <td>0.525943</td>\n",
       "      <td>0.365566</td>\n",
       "      <td>22.965456</td>\n",
       "    </tr>\n",
       "    <tr>\n",
       "      <th>std</th>\n",
       "      <td>264.739548</td>\n",
       "      <td>0.0</td>\n",
       "      <td>0.743633</td>\n",
       "      <td>14.172110</td>\n",
       "      <td>1.044760</td>\n",
       "      <td>0.878341</td>\n",
       "      <td>31.448825</td>\n",
       "    </tr>\n",
       "    <tr>\n",
       "      <th>min</th>\n",
       "      <td>1.000000</td>\n",
       "      <td>0.0</td>\n",
       "      <td>1.000000</td>\n",
       "      <td>1.000000</td>\n",
       "      <td>0.000000</td>\n",
       "      <td>0.000000</td>\n",
       "      <td>0.000000</td>\n",
       "    </tr>\n",
       "    <tr>\n",
       "      <th>25%</th>\n",
       "      <td>200.750000</td>\n",
       "      <td>0.0</td>\n",
       "      <td>2.000000</td>\n",
       "      <td>21.000000</td>\n",
       "      <td>0.000000</td>\n",
       "      <td>0.000000</td>\n",
       "      <td>7.895800</td>\n",
       "    </tr>\n",
       "    <tr>\n",
       "      <th>50%</th>\n",
       "      <td>436.000000</td>\n",
       "      <td>0.0</td>\n",
       "      <td>3.000000</td>\n",
       "      <td>28.000000</td>\n",
       "      <td>0.000000</td>\n",
       "      <td>0.000000</td>\n",
       "      <td>11.887500</td>\n",
       "    </tr>\n",
       "    <tr>\n",
       "      <th>75%</th>\n",
       "      <td>683.250000</td>\n",
       "      <td>0.0</td>\n",
       "      <td>3.000000</td>\n",
       "      <td>39.000000</td>\n",
       "      <td>1.000000</td>\n",
       "      <td>0.000000</td>\n",
       "      <td>26.550000</td>\n",
       "    </tr>\n",
       "    <tr>\n",
       "      <th>max</th>\n",
       "      <td>891.000000</td>\n",
       "      <td>0.0</td>\n",
       "      <td>3.000000</td>\n",
       "      <td>74.000000</td>\n",
       "      <td>5.000000</td>\n",
       "      <td>6.000000</td>\n",
       "      <td>263.000000</td>\n",
       "    </tr>\n",
       "  </tbody>\n",
       "</table>\n",
       "</div>"
      ],
      "text/plain": [
       "       PassengerId  Survived      Pclass         Age       SibSp       Parch  \\\n",
       "count   424.000000     424.0  424.000000  424.000000  424.000000  424.000000   \n",
       "mean    442.299528       0.0    2.485849   30.626179    0.525943    0.365566   \n",
       "std     264.739548       0.0    0.743633   14.172110    1.044760    0.878341   \n",
       "min       1.000000       0.0    1.000000    1.000000    0.000000    0.000000   \n",
       "25%     200.750000       0.0    2.000000   21.000000    0.000000    0.000000   \n",
       "50%     436.000000       0.0    3.000000   28.000000    0.000000    0.000000   \n",
       "75%     683.250000       0.0    3.000000   39.000000    1.000000    0.000000   \n",
       "max     891.000000       0.0    3.000000   74.000000    5.000000    6.000000   \n",
       "\n",
       "             Fare  \n",
       "count  424.000000  \n",
       "mean    22.965456  \n",
       "std     31.448825  \n",
       "min      0.000000  \n",
       "25%      7.895800  \n",
       "50%     11.887500  \n",
       "75%     26.550000  \n",
       "max    263.000000  "
      ]
     },
     "execution_count": 181,
     "metadata": {},
     "output_type": "execute_result"
    }
   ],
   "source": [
    "non_survivors.describe()"
   ]
  },
  {
   "cell_type": "markdown",
   "metadata": {},
   "source": [
    "It looks like not all young people were spared however, based on the data above at least 1 individual who was just 1 years old did not survive. Very tradgic.\n",
    "\n",
    "Let's have a look to see if the class of travel had an influence on survival rate?\n",
    "\n",
    "# Plots of Survival rate by Class"
   ]
  },
  {
   "cell_type": "code",
   "execution_count": 182,
   "metadata": {},
   "outputs": [
    {
     "data": {
      "text/plain": [
       "<matplotlib.axes._subplots.AxesSubplot at 0x11f45d278>"
      ]
     },
     "execution_count": 182,
     "metadata": {},
     "output_type": "execute_result"
    },
    {
     "data": {
      "image/png": "[encoded data removed]",
      "text/plain": [
       "<matplotlib.figure.Figure at 0x11f0be940>"
      ]
     },
     "metadata": {},
     "output_type": "display_data"
    }
   ],
   "source": [
    "upper_class = removed_invalid_data[removed_invalid_data.Pclass == 1]\n",
    "middle_class = removed_invalid_data[removed_invalid_data.Pclass == 2]\n",
    "lower_class = removed_invalid_data[removed_invalid_data.Pclass == 3]\n",
    "\n",
    "sub_df1 = upper_class.groupby(['Survived'])['PassengerId'].count()\n",
    "sub_df2 = middle_class.groupby(['Survived'])['PassengerId'].count()\n",
    "sub_df3 = lower_class.groupby(['Survived'])['PassengerId'].count()\n",
    "sub_df = pd.concat([sub_df1, sub_df2, sub_df3],keys=[\"Upper Class\", \"Mid Class\", \"Lower Class\"]).unstack()\n",
    "\n",
    "sub_df.plot.bar(stacked=True)"
   ]
  },
  {
   "cell_type": "markdown",
   "metadata": {},
   "source": [
    "It looks like by far, the lower class passengers fared much worse than middle or upper class. There appears to be a decaying % of passengers as classes increase that perished in the Titanic crash.\n",
    "\n",
    "The last lense that I'd like to explore the data through is based on survivorship via Gender.\n",
    "\n",
    "# Plots of Survival Rate by Gender"
   ]
  },
  {
   "cell_type": "code",
   "execution_count": 183,
   "metadata": {},
   "outputs": [
    {
     "data": {
      "text/plain": [
       "<matplotlib.axes._subplots.AxesSubplot at 0x11f6516a0>"
      ]
     },
     "execution_count": 183,
     "metadata": {},
     "output_type": "execute_result"
    },
    {
     "data": {
      "image/png": "[encoded data removed]",
      "text/plain": [
       "<matplotlib.figure.Figure at 0x11f448c50>"
      ]
     },
     "metadata": {},
     "output_type": "display_data"
    }
   ],
   "source": [
    "male_passengers = removed_invalid_data[removed_invalid_data.Sex == 'male']\n",
    "female_passengers = removed_invalid_data[removed_invalid_data.Sex == 'female']\n",
    "\n",
    "sub_df1 = male_passengers.groupby(['Survived'])['PassengerId'].count()\n",
    "sub_df2 = female_passengers.groupby(['Survived'])['PassengerId'].count()\n",
    "\n",
    "sub_df = pd.concat([sub_df1, sub_df2],keys=[\"Men\", \"Women\"]).unstack()\n",
    "sub_df.plot.bar(stacked=True)"
   ]
  },
  {
   "cell_type": "markdown",
   "metadata": {},
   "source": [
    "# Limitations\n",
    "\n",
    "The conclusions that were able to be deduced from this data set were limited by a few things:\n",
    "* The data was not complete - as in it was not the total population of all passengers on the Titanic. This could result in biased data\n",
    "* We were working off incomplete data - we did not know where a passenger was at the time the incident occured, or exactly how they were related to other passengers\n",
    "* There may have been other external factors that influenced an individuals survival rate that was not covered in the data set as provided\n",
    "\n",
    "All of the above could mean that any visible correlation we showed was not a direct causation for survival of an individual."
   ]
  },
  {
   "cell_type": "markdown",
   "metadata": {},
   "source": [
    "# Conclusions\n",
    "\n",
    "Based on the analysis above, I have observed the following patterns in the data:\n",
    "    \n",
    "* Passengers in higher classes were more likely to survive the incident\n",
    "* Younger passengers were more likely to survive\n",
    "* A disproportionate number of men perished compared to women\n",
    "    \n",
    "As a result a the tenative conclusion can be drawn that the message presented in the movies (of there being limited life boats, meaning first to the boats were most likely to be saved), and prioritisation of women + children first tentatively holds true (based on the data available)."
   ]
  },
  {
   "cell_type": "code",
   "execution_count": null,
   "metadata": {
    "collapsed": true
   },
   "outputs": [],
   "source": []
  }
 ],
 "metadata": {
  "kernelspec": {
   "display_name": "Python 3",
   "language": "python",
   "name": "python3"
  },
  "language_info": {
   "codemirror_mode": {
    "name": "ipython",
    "version": 3
   },
   "file_extension": ".py",
   "mimetype": "text/x-python",
   "name": "python",
   "nbconvert_exporter": "python",
   "pygments_lexer": "ipython3",
   "version": "3.6.1"
  }
 },
 "nbformat": 4,
 "nbformat_minor": 2
}
